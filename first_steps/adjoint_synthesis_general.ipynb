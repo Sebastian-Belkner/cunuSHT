{
 "cells": [
  {
   "cell_type": "markdown",
   "metadata": {},
   "source": [
    "# This notebook demonstrates the usage of `adjoint_synthesis_general()` on a GPU and on a CPU\n",
    "You'll be generating random data, random new non-uniform location, and calculate the synthesized SHT map at this location.\n",
    "Note that the calls are slightly different for the two backends."
   ]
  },
  {
   "cell_type": "code",
   "execution_count": null,
   "metadata": {},
   "outputs": [],
   "source": [
    "from IPython.display import clear_output\n",
    "import numpy as np\n",
    "import healpy as hp\n",
    "import cupy as cp\n",
    "\n",
    "from scipy.special import comb\n",
    "\n",
    "import matplotlib.pyplot as plt\n",
    "from mpl_toolkits.axes_grid1 import make_axes_locatable\n",
    "\n",
    "import cunusht\n",
    "from cunusht.utils import synalm, Alm\n",
    "\n",
    "def get_toymap(plot_fid=False):\n",
    "    def smoothstep(x, x_min=0, x_max=1, N=1):\n",
    "        x = np.clip((x - x_min) / (x_max - x_min), 0, 1)\n",
    "        result = 0\n",
    "        for n in range(0, N + 1):\n",
    "            result += comb(N + n, n) * comb(2 * N + 1, N - n) * (-x) ** n\n",
    "        result *= x ** (N + 1)\n",
    "        return result\n",
    "\n",
    "    ll = np.arange(0,lmax+1)\n",
    "    cl = (1+np.sin(ll/3)**2)*smoothstep(ll, lmax//50)\n",
    "    if plot_fid:\n",
    "        plt.plot(cl)\n",
    "        plt.loglog()\n",
    "    return synalm(cl, lmax=lmax, mmax=lmax)"
   ]
  },
  {
   "cell_type": "markdown",
   "metadata": {},
   "source": [
    "## Initialise\n",
    "\n",
    "In the first cell, you set up some parameters and initialise the transformer that holds all relevant functions. \n",
    "\n",
    "`geominfo` is the geometry onto which the final map is calculated. We choose a 'Gauss-Legendre' geometry due to it obeying a sampling theorem.\n",
    "We also demonstrate nuFFT-planning by providing 'nuFFTtype' and 'epsilon', so that we can calculate `adjoint_synthesis_general()` without having to repeatedly initialise it."
   ]
  },
  {
   "cell_type": "code",
   "execution_count": null,
   "metadata": {},
   "outputs": [],
   "source": [
    "lmax, mmax = 2047, 2047\n",
    "geominfo = ('gl',{'lmax': lmax})\n",
    "kwargs = {\n",
    "    'geominfo_deflection': geominfo,\n",
    "    'nuFFTtype': 1,\n",
    "    'epsilon': 1e-7,\n",
    "}\n",
    "\n",
    "tGPU = cunusht.get_transformer(backend='GPU')(**kwargs)\n",
    "\n",
    "clear_output()"
   ]
  },
  {
   "cell_type": "markdown",
   "metadata": {},
   "source": [
    "## Generate data\n",
    "You will need SHT coefficients `coef` at a uniform-grid, and the non-uniform `pointing` grid at which the map is supposed to be evaluated.\n",
    "\n",
    "First, we create random coefs, but supress small scales to give it some structure, and view them."
   ]
  },
  {
   "cell_type": "code",
   "execution_count": null,
   "metadata": {},
   "outputs": [],
   "source": [
    "coef = get_coef(True)"
   ]
  },
  {
   "cell_type": "code",
   "execution_count": null,
   "metadata": {},
   "outputs": [],
   "source": [
    "plt.plot(hp.alm2cl(coef))\n",
    "plt.loglog()\n",
    "plt.show()\n",
    "\n",
    "m = cp.empty(tGPU.deflectionlib.geom.npix())\n",
    "tGPU.deflectionlib.synthesis_cupy(cp.array(coef), out=m, lmax=lmax, mmax=lmax, nthreads=10)\n",
    "plt.imshow(m.get().reshape(-1,lmax+1).T)\n",
    "plt.colorbar()"
   ]
  },
  {
   "cell_type": "markdown",
   "metadata": {},
   "source": [
    "Then, for the pointing we choose something simple, like a `sin()` function that shifts all theta locations away from the uniform grid by a small amount. We also provide a refernce pointing `loc_nod` that does exactly no remapping."
   ]
  },
  {
   "cell_type": "code",
   "execution_count": null,
   "metadata": {},
   "outputs": [],
   "source": [
    "pointing_phi = np.ones((tGPU.deflectionlib.geom.npix()), dtype=cp.double)\n",
    "pointing_theta = np.ones((tGPU.deflectionlib.geom.npix()), dtype=cp.double)\n",
    "\n",
    "pointing_theta = (pointing_theta.reshape(lmax+1,-1)*tGPU.deflectionlib.geom.theta[:,np.newaxis]+0.05*np.sin(2*2*np.pi*np.linspace(0,np.pi,lmax+1).reshape(-1,1))).flatten()\n",
    "pointing_phi = ((pointing_phi.reshape(lmax+1,-1))* np.linspace(0,2*np.pi,int(tGPU.deflectionlib.geom.nph[0]), endpoint=False)).flatten()\n",
    "\n",
    "pointing_theta = np.where(pointing_theta>np.pi,pointing_theta-np.pi, pointing_theta)\n",
    "pointing_theta = np.where(pointing_theta<0,pointing_theta+np.pi, pointing_theta)\n",
    "pointing_phi = np.where(pointing_phi>2*np.pi,pointing_phi-2*np.pi, pointing_phi)\n",
    "pointing_phi = np.where(pointing_phi<0,pointing_phi+2*np.pi, pointing_phi)\n",
    "loc = np.array([pointing_theta, pointing_phi])\n",
    "\n",
    "pp = np.ones((tGPU.deflectionlib.geom.npix()), dtype=cp.double)\n",
    "pt = np.ones((tGPU.deflectionlib.geom.npix()), dtype=cp.double)\n",
    "_t = (pt.reshape(lmax+1,-1)*tGPU.deflectionlib.geom.theta[:,np.newaxis]).flatten()\n",
    "_p = ((pp.reshape(lmax+1,-1))* np.linspace(0,2*np.pi,int(tGPU.deflectionlib.geom.nph[0]), endpoint=False)).flatten()\n",
    "# loc_nod = tGPU.dlm2pointing(cp.zeros(shape=coef.shape), lmax, verbose=1, nthreads=10)\n",
    "loc_nod = np.array([_t, _p])"
   ]
  },
  {
   "cell_type": "code",
   "execution_count": null,
   "metadata": {},
   "outputs": [],
   "source": [
    "\n",
    "def add_colorbar_to_axis(fig, ax, im):\n",
    "    divider = make_axes_locatable(ax)\n",
    "    cax = divider.append_axes('right', size='5%', pad=0.05)\n",
    "    fig.colorbar(im, cax=cax, orientation='vertical')\n",
    "    \n",
    "fig, ax = plt.subplots(3, 2, figsize=(16,14))\n",
    "\n",
    "im = ax[0,0].imshow(pointing_theta.reshape(lmax+1,-1))\n",
    "add_colorbar_to_axis(fig, ax[0,0], im)\n",
    "\n",
    "im = ax[0,1].imshow(pointing_phi.reshape(lmax+1,-1))\n",
    "add_colorbar_to_axis(fig, ax[0,1], im)\n",
    "\n",
    "im = ax[1,0].imshow(loc_nod[0,:].reshape(lmax+1,-1))\n",
    "add_colorbar_to_axis(fig, ax[1,0], im)\n",
    "\n",
    "im = ax[1,1].imshow(loc_nod[1,:].reshape(lmax+1,-1))\n",
    "add_colorbar_to_axis(fig, ax[1,1], im)\n",
    "\n",
    "im = ax[2,0].imshow((pointing_theta-loc_nod[0,:]).reshape(lmax+1,-1), vmin=-0.05,vmax=0.05, cmap='seismic')\n",
    "add_colorbar_to_axis(fig, ax[2,0], im)\n",
    "\n",
    "im = ax[2,1].imshow((pointing_phi-loc_nod[1,:]).reshape(lmax+1,-1), cmap='seismic')\n",
    "add_colorbar_to_axis(fig, ax[2,1], im)"
   ]
  },
  {
   "cell_type": "markdown",
   "metadata": {},
   "source": [
    "## Let's calculate the new map\n",
    "you can choose `loc` or `loc_nod` here and check what happens"
   ]
  },
  {
   "cell_type": "code",
   "execution_count": null,
   "metadata": {},
   "outputs": [],
   "source": [
    "pointmap = cp.empty(shape=tGPU.deflectionlib.geom.npix())*0.\n",
    "res = tGPU.adjoint_synthesis_general(lmax=lmax, mmax=mmax, alm=cp.array(coef), loc=cp.array(loc_nod.T), epsilon=1e-10, nthreads=10, pointmap=pointmap, verbose=True)"
   ]
  },
  {
   "cell_type": "code",
   "execution_count": null,
   "metadata": {},
   "outputs": [],
   "source": [
    "fig, ax = plt.subplots(1, 3, figsize=(22,12))\n",
    "\n",
    "im = ax[0].imshow(m.get().reshape(-1,lmax+1).T)\n",
    "add_colorbar_to_axis(fig, ax[0], im)\n",
    "\n",
    "im = ax[1].imshow(res.get().reshape(lmax+1,-1))\n",
    "add_colorbar_to_axis(fig, ax[1], im)\n",
    "\n",
    "epsilon=1e-11\n",
    "im = ax[2].imshow(m.get().reshape(-1,lmax+1).T-res.get().reshape(lmax+1,-1), vmin=-epsilon, vmax=epsilon)\n",
    "add_colorbar_to_axis(fig, ax[2], im)"
   ]
  },
  {
   "cell_type": "markdown",
   "metadata": {},
   "source": [
    "### We can use this transformer to repeatedly call `synthesis_general()`, which is not only conventient, but also fast. No more initialisation needed, you can even change the `loc` in each call, if wanted."
   ]
  },
  {
   "cell_type": "code",
   "execution_count": null,
   "metadata": {},
   "outputs": [],
   "source": [
    "for n in range(5):\n",
    "    res = tGPU.adjoint_synthesis_general(lmax=lmax, mmax=mmax, alm=cp.array(get_coef(False)), loc=cp.array(loc_nod.T), epsilon=1e-10, nthreads=10, pointmap=pointmap, verbose=True)\n",
    "    print(res)"
   ]
  },
  {
   "cell_type": "markdown",
   "metadata": {},
   "source": [
    "## gclm2lenmap()\n",
    "This is a convenience function in case you have a deflection field, which is likely the case if you are a CMB lensing analyst. The following cell uses a deflection field that is zero, therefore you won't see any deflection. Feel free to create your own toy deflection field"
   ]
  },
  {
   "cell_type": "code",
   "execution_count": null,
   "metadata": {},
   "outputs": [],
   "source": [
    "pointmap = cp.empty(shape=tGPU.deflectionlib.geom.npix())*0.\n",
    "res = tGPU.lenmap2gclm(cp.array(coef), dlm_scaled=cp.zeros(shape=coef.shape), lmax=lmax, mmax=lmax, nthreads=10, lenmap=pointmap)#, ptg=cp.array(loc_nod.T))"
   ]
  },
  {
   "cell_type": "code",
   "execution_count": null,
   "metadata": {},
   "outputs": [],
   "source": [
    "fig, ax = plt.subplots(1, 3, figsize=(22,12))\n",
    "\n",
    "im = ax[0].imshow(m.get().reshape(-1,lmax+1).T)\n",
    "add_colorbar_to_axis(fig, ax[0], im)\n",
    "\n",
    "im = ax[1].imshow(res.get().reshape(lmax+1,-1))\n",
    "add_colorbar_to_axis(fig, ax[1], im)\n",
    "\n",
    "epsilon=1e-11\n",
    "im = ax[2].imshow(m.get().reshape(-1,lmax+1).T-res.get().reshape(lmax+1,-1), vmin=-epsilon, vmax=epsilon)\n",
    "add_colorbar_to_axis(fig, ax[2], im)"
   ]
  },
  {
   "cell_type": "markdown",
   "metadata": {},
   "source": [
    "# CPU\n",
    "In case you'd like to run these functions on the CPU, the following cells show how that would work.\n",
    "\n",
    "The following cell creates a transformer with the CPU as backend"
   ]
  },
  {
   "cell_type": "code",
   "execution_count": null,
   "metadata": {},
   "outputs": [],
   "source": [
    "from IPython.display import clear_output\n",
    "import numpy as np\n",
    "\n",
    "import cunusht\n",
    "from cunusht.utils import Alm\n",
    "\n",
    "import healpy as hp\n",
    "import matplotlib.pyplot as plt\n",
    "\n",
    "lmax, mmax = 2047, 2047\n",
    "geominfo = ('gl',{'lmax':lmax})\n",
    "kwargs = {\n",
    "    'geominfo_deflection':  geominfo,\n",
    "}\n",
    "\n",
    "tCPU = cunusht.get_transformer(backend='CPU')(**kwargs)\n",
    "dglm = np.empty(Alm.getsize(lmax, mmax))*0.\n",
    "tCPU.setup_lensing(dglm, mmax_dlm=mmax, nthreads=10, verbose=True, epsilon=1e-6, single_prec=False)\n",
    "\n",
    "clear_output()"
   ]
  },
  {
   "cell_type": "markdown",
   "metadata": {},
   "source": [
    "## Generate data\n",
    "This is exactly as in the GPU case"
   ]
  },
  {
   "cell_type": "code",
   "execution_count": null,
   "metadata": {},
   "outputs": [],
   "source": [
    "coef = synalm(cl, lmax=lmax, mmax=lmax)"
   ]
  },
  {
   "cell_type": "code",
   "execution_count": null,
   "metadata": {},
   "outputs": [],
   "source": [
    "plt.plot(hp.alm2cl(coef))\n",
    "plt.loglog()\n",
    "plt.show()\n",
    "\n",
    "m = tCPU.deflectionlib.geom.synthesis(coef.copy(), spin=0, lmax=lmax, mmax=lmax, nthreads=10)\n",
    "plt.imshow(m.reshape(lmax+1,-1))"
   ]
  },
  {
   "cell_type": "markdown",
   "metadata": {},
   "source": [
    "## Let's get the result"
   ]
  },
  {
   "cell_type": "code",
   "execution_count": null,
   "metadata": {},
   "outputs": [],
   "source": [
    "pointmap = np.empty(tCPU.deflectionlib.geom.npix())\n",
    "res = tCPU.synthesis_general(lmax=lmax, mmax=lmax, alm=np.array(np.atleast_2d(coef)), spin=0, mode=\"STANDARD\", loc=np.array(loc).T, epsilon=1e-10, nthreads=10, verbose=1)"
   ]
  },
  {
   "cell_type": "markdown",
   "metadata": {},
   "source": [
    "note: the difference map is only expected to be at the order of epsilon, if there is no deflection, i.e. if you use `loc_nod`"
   ]
  },
  {
   "cell_type": "code",
   "execution_count": null,
   "metadata": {},
   "outputs": [],
   "source": [
    "fig, ax = plt.subplots(1, 3, figsize=(22,12))\n",
    "\n",
    "im = ax[0].imshow(m.reshape(lmax+1,-1))\n",
    "add_colorbar_to_axis(fig, ax[0], im)\n",
    "\n",
    "im = ax[1].imshow(res.reshape(lmax+1,-1))\n",
    "add_colorbar_to_axis(fig, ax[1], im)\n",
    "\n",
    "epsilon=1e-11\n",
    "im = ax[2].imshow(m.reshape(lmax+1,-1)-res.reshape(lmax+1,-1), vmin=-epsilon, vmax=epsilon)\n",
    "add_colorbar_to_axis(fig, ax[2], im)"
   ]
  },
  {
   "cell_type": "markdown",
   "metadata": {},
   "source": [
    "## gclm2lenmap()"
   ]
  },
  {
   "cell_type": "code",
   "execution_count": null,
   "metadata": {},
   "outputs": [],
   "source": [
    "pointmap = np.empty(shape=tGPU.deflectionlib.geom.npix())*0.\n",
    "res = tCPU.gclm2lenmap(gclm=np.array(coef), dlm=np.zeros(shape=coef.shape, dtype=np.complex128), spin=0, lmax=lmax, mmax=lmax, nthreads=10, epsilon=1e-7, lenmap=pointmap)#, ptg=cp.array(loc_nod.T))"
   ]
  },
  {
   "cell_type": "code",
   "execution_count": null,
   "metadata": {},
   "outputs": [],
   "source": []
  }
 ],
 "metadata": {
  "kernelspec": {
   "display_name": "pysht",
   "language": "python",
   "name": "python3"
  },
  "language_info": {
   "codemirror_mode": {
    "name": "ipython",
    "version": 3
   },
   "file_extension": ".py",
   "mimetype": "text/x-python",
   "name": "python",
   "nbconvert_exporter": "python",
   "pygments_lexer": "ipython3",
   "version": "3.10.10"
  }
 },
 "nbformat": 4,
 "nbformat_minor": 2
}
