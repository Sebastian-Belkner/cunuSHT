{
 "cells": [
  {
   "cell_type": "code",
   "execution_count": 1,
   "metadata": {},
   "outputs": [
    {
     "ename": "SyntaxError",
     "evalue": "invalid syntax (2483157314.py, line 1)",
     "output_type": "error",
     "traceback": [
      "\u001b[0;36m  Cell \u001b[0;32mIn[1], line 1\u001b[0;36m\u001b[0m\n\u001b[0;31m    `#calculate GCI\u001b[0m\n\u001b[0m    ^\u001b[0m\n\u001b[0;31mSyntaxError\u001b[0m\u001b[0;31m:\u001b[0m invalid syntax\n"
     ]
    }
   ],
   "source": [
    "`#calculate GCI\n",
    "gridnam=[\"0.08\",\"0.05\",\"0.03\",\"0.02\",\"0.013\"]\n",
    "gridnum=[289512,880684,3291056,9893524,32069970]\n",
    "#chose the grid index \n",
    "chosengrid=[2,3,4]\n",
    "N3 = gridnum[chosengrid[0]]  \n",
    "N2 = gridnum[chosengrid[1]]  \n",
    "N1 = gridnum[chosengrid[2]]  \n",
    "for i in range(len(vars_nam)):\n",
    "    #data from the chosen grid\n",
    "    vektorf3 = casedat[gridnam[chosengrid[0]]][i]\n",
    "    vektorf2 = casedat[gridnam[chosengrid[1]]][i]\n",
    "    vektorf1 = casedat[gridnam[chosengrid[2]]][i]\n",
    "    if isinstance(vektorf3,float):\n",
    "        vektorf3 = [vektorf3] \n",
    "        vektorf2 = [vektorf2]\n",
    "        vektorf1 = [vektorf1]\n",
    "    vektor_GCI21 = np.empty(len(vektorf3))\n",
    "    vektor_GCI32 = np.empty(len(vektorf3))\n",
    "    vektor_phiext21 = np.empty(len(vektorf3))\n",
    "    vektor_phiext32 = np.empty(len(vektorf3)) \n",
    "    vektor_osci=np.empty(len(vektorf3))\n",
    "    for j in range(len(vektorf3)):\n",
    "        f3 = vektorf3[j]\n",
    "        f2 = vektorf2[j]\n",
    "        f1 = vektorf1[j]\n",
    "        p = 1.3\n",
    "        Eps32 = f3 - f2\n",
    "        Eps21 = f2 - f1\n",
    "        r32 = (N2/N3)**(1/3)\n",
    "        r21 = (N1/N2)**(1/3)\n",
    "        s = 1 * np.sign(Eps32/Eps21)\n",
    "        for k in range(200000):\n",
    "            qp = np.log((r21**p - s)/(r32**p - s))\n",
    "            p1 = np.abs(np.log(np.abs(Eps32/Eps21)) + qp) / np.log(r21)\n",
    "            if np.abs(p - p1) < 1e-8:\n",
    "                p=p1\n",
    "                break\n",
    "         \n",
    "            p = (p1 + p) / 2\n",
    "        e21 = np.abs((f1 - f2) / f1)\n",
    "        e32 = np.abs((f2 - f3) / f2)\n",
    "        GCI21 = 1.25 * e21 / (r21**p - 1)\n",
    "        GCI32 = 1.25 * e32 / (r32**p - 1)\n",
    "        vektor_osci[j]=Eps32/Eps21\n",
    "        vektor_GCI21[j] = GCI21\n",
    "        vektor_GCI32[j] = GCI32\n",
    "        vektor_phiext21[j]=(r21**p*f1-f2)/(r21**p-1)\n",
    "        vektor_phiext32[j]=(r32**p*f2-f3)/(r32**p-1)\n",
    "    casedat_GCI[\"GCI21\"][i]=vektor_GCI21\n",
    "    casedat_GCI[\"GCI32\"][i]=vektor_GCI32\n",
    "    casedat_phiext[\"GCI21\"][i]=vektor_phiext21\n",
    "    casedat_phiext[\"GCI32\"][i]=vektor_phiext32\n",
    "    casedat_osci[i]=vektor_osci"
   ]
  },
  {
   "cell_type": "code",
   "execution_count": 3,
   "metadata": {},
   "outputs": [
    {
     "name": "stdout",
     "output_type": "stream",
     "text": [
      "[0 2 3] [0 2 3]\n"
     ]
    }
   ],
   "source": [
    "import numpy as np\n",
    "a = np.array([1,2,3])\n",
    "b = a\n",
    "\n",
    "a[0] = 0\n",
    "print(a, b)"
   ]
  },
  {
   "cell_type": "code",
   "execution_count": null,
   "metadata": {},
   "outputs": [],
   "source": []
  }
 ],
 "metadata": {
  "kernelspec": {
   "display_name": "Python 3 (ipykernel)",
   "language": "python",
   "name": "python3"
  },
  "orig_nbformat": 4
 },
 "nbformat": 4,
 "nbformat_minor": 2
}
