{
 "cells": [
  {
   "cell_type": "markdown",
   "metadata": {},
   "source": [
    "# Doubling"
   ]
  },
  {
   "cell_type": "code",
   "execution_count": 1,
   "metadata": {},
   "outputs": [
    {
     "name": "stdout",
     "output_type": "stream",
     "text": [
      "8 12\n",
      "(168,)\n",
      "(8, 12) (8, 12)\n"
     ]
    }
   ],
   "source": [
    "import numpy as np\n",
    "import ducc0\n",
    "lmax = 5\n",
    "ntheta = (ducc0.fft.good_size(lmax + 2) + 3) // 4 * 4\n",
    "nphi = ducc0.fft.good_size(lmax + 1)*2\n",
    "print(ntheta, nphi)\n",
    "synth1D = np.arange((ntheta * nphi))\n",
    "doubling1D_py = np.zeros((2 * ntheta-2, nphi))\n",
    "print(doubling1D_py.flatten().shape)\n",
    "synth1D_py = np.copy(synth1D.reshape(ntheta, nphi))\n",
    "print(synth1D_py.shape, doubling1D_py[:ntheta, :].shape)\n",
    "\n",
    "nphihalf = nphi//2\n",
    "doubling1D_py[:ntheta, :] = synth1D_py\n",
    "doubling1D_py[ntheta:, :nphihalf] = doubling1D_py[ntheta-2:0:-1, nphihalf:]\n",
    "doubling1D_py[ntheta:, nphihalf:] = doubling1D_py[ntheta-2:0:-1, :nphihalf]\n",
    "\n",
    "# doubling1D_py"
   ]
  },
  {
   "cell_type": "code",
   "execution_count": 4,
   "metadata": {},
   "outputs": [
    {
     "name": "stdout",
     "output_type": "stream",
     "text": [
      "8 12 14\n"
     ]
    },
    {
     "data": {
      "text/plain": [
       "array([[ 0.,  1.,  2.,  3.,  4.,  5.,  6.,  7.,  8.,  9., 10., 11.],\n",
       "       [12., 13., 14., 15., 16., 17., 18., 19., 20., 21., 22., 23.],\n",
       "       [24., 25., 26., 27., 28., 29., 30., 31., 32., 33., 34., 35.],\n",
       "       [36., 37., 38., 39., 40., 41., 42., 43., 44., 45., 46., 47.],\n",
       "       [48., 49., 50., 51., 52., 53., 54., 55., 56., 57., 58., 59.],\n",
       "       [60., 61., 62., 63., 64., 65., 66., 67., 68., 69., 70., 71.],\n",
       "       [72., 73., 74., 75., 76., 77., 78., 79., 80., 81., 82., 83.],\n",
       "       [84., 85., 86., 87., 88., 89., 90., 91., 92., 93., 94., 95.],\n",
       "       [78., 79., 80., 81., 82., 83., 72., 73., 74., 75., 76., 77.],\n",
       "       [66., 67., 68., 69., 70., 71., 60., 61., 62., 63., 64., 65.],\n",
       "       [54., 55., 56., 57., 58., 59., 48., 49., 50., 51., 52., 53.],\n",
       "       [42., 43., 44., 45., 46., 47., 36., 37., 38., 39., 40., 41.],\n",
       "       [30., 31., 32., 33., 34., 35., 24., 25., 26., 27., 28., 29.],\n",
       "       [18., 19., 20., 21., 22., 23., 12., 13., 14., 15., 16., 17.]])"
      ]
     },
     "execution_count": 4,
     "metadata": {},
     "output_type": "execute_result"
    },
    {
     "data": {
      "image/png": "[encoded data removed]",
      "text/plain": [
       "<Figure size 1400x600 with 3 Axes>"
      ]
     },
     "metadata": {},
     "output_type": "display_data"
    }
   ],
   "source": [
    "import numpy as np\n",
    "synth1D = np.arange((ntheta * nphi))\n",
    "doubling1D = np.zeros(((2 * ntheta - 2)* nphi))\n",
    "import matplotlib.pyplot as plt\n",
    "nphihalf = nphi // 2\n",
    "npixplusnphihalf = (ntheta-2)*nphi + nphihalf\n",
    "\n",
    "print(ntheta, nphi, 2*ntheta-2)\n",
    "for ringi in range(2 * ntheta-2):\n",
    "    if (ringi < ntheta):\n",
    "        for phii in range(nphi):\n",
    "            doubling1D[ringi * nphi + phii] = synth1D[ringi * nphi + phii]\n",
    "    elif (ringi >= ntheta):\n",
    "        for phii in range(0, nphi):\n",
    "            if phii<nphihalf:\n",
    "                # bottom left\n",
    "                doubling1D[ringi * nphi + phii] = synth1D[npixplusnphihalf - (ringi)*nphi + phii]\n",
    "            else:\n",
    "                # bottom right\n",
    "                doubling1D[ringi * nphi + phii] = synth1D[npixplusnphihalf - (ringi+1)*nphi + phii]\n",
    "\n",
    "fig, ax = plt.subplots(1,3,figsize=(14,6))\n",
    "ax[0].imshow(doubling1D_py)\n",
    "ax[0].set_title('Truth')\n",
    "ax[1].imshow(doubling1D.reshape(2*ntheta - 2, nphi))\n",
    "ax[1].set_title(\"Trial\")\n",
    "ax[2].imshow(doubling1D_py-doubling1D.reshape(2*ntheta - 2, nphi), cmap=\"PiYG\", vmin=-10, vmax=10)\n",
    "\n",
    "(doubling1D_py) - (doubling1D.reshape(2*ntheta - 2, nphi))\n",
    "# doubling1D.reshape(2*ntheta - 2, nphi)\n",
    "doubling1D_py"
   ]
  },
  {
   "cell_type": "markdown",
   "metadata": {},
   "source": [
    "## theta-contiguous array"
   ]
  },
  {
   "cell_type": "code",
   "execution_count": 9,
   "metadata": {},
   "outputs": [
    {
     "name": "stdout",
     "output_type": "stream",
     "text": [
      "12 8\n",
      "[ 0 12 24 36 48 60 72 84  1 13 25 37 49 61 73 85  2 14 26 38 50 62 74 86\n",
      "  3 15 27 39 51 63 75 87  4 16 28 40 52 64 76 88  5 17 29 41 53 65 77 89\n",
      "  6 18 30 42 54 66 78 90  7 19 31 43 55 67 79 91  8 20 32 44 56 68 80 92\n",
      "  9 21 33 45 57 69 81 93 10 22 34 46 58 70 82 94 11 23 35 47 59 71 83 95]\n",
      "\n",
      "[ 0 12 24 36 48 60 72 84  0  0  0  0  0  0  1 13 25 37 49 61 73 85  0  0\n",
      "  0  0  0  0  2 14 26 38 50 62 74 86  0  0  0  0  0  0  3 15 27 39 51 63\n",
      " 75 87  0  0  0  0  0  0  4 16 28 40 52 64 76 88  0  0  0  0  0  0  5 17\n",
      " 29 41 53 65 77 89  0  0  0  0  0  0  6 18 30 42 54 66 78 90 72 60 48 36\n",
      " 24 12  7 19 31 43 55 67 79 91 73 61 49 37 25 13  8 20 32 44 56 68 80 92\n",
      " 74 62 50 38 26 14  9 21 33 45 57 69 81 93 75 63 51 39 27 15 10 22 34 46\n",
      " 58 70 82 94 76 64 52 40 28 16 11 23 35 47 59 71 83 95 77 65 53 41 29 17]\n",
      "[ 0 12 24 36 48 60 72 84  0  0  0  0  0  0  1 13 25 37 49 61 73 85  0  0\n",
      "  0  0  0  0  2 14 26 38 50 62 74 86  0  0  0  0  0  0  3 15 27 39 51 63\n",
      " 75 87  0  0  0  0  0  0  4 16 28 40 52 64 76 88  0  0  0  0  0  0  5 17\n",
      " 29 41 53 65 77 89  0  0  0  0  0  0  6 18 30 42 54 66 78 90 72 60 48 36\n",
      " 24 12  7 19 31 43 55 67 79 91 73 61 49 37 25 13  8 20 32 44 56 68 80 92\n",
      " 74 62 50 38 26 14  9 21 33 45 57 69 81 93 75 63 51 39 27 15 10 22 34 46\n",
      " 58 70 82 94 76 64 52 40 28 16 11 23 35 47 59 71 83 95 77 65 53 41 29 17]\n"
     ]
    },
    {
     "data": {
      "image/png": "[encoded data removed]",
      "text/plain": [
       "<Figure size 1400x600 with 3 Axes>"
      ]
     },
     "metadata": {},
     "output_type": "display_data"
    }
   ],
   "source": [
    "import numpy as np\n",
    "synth1D = np.arange((ntheta * nphi)).reshape(ntheta, nphi).T.flatten()\n",
    "print(nphi, ntheta)\n",
    "print(synth1D)\n",
    "print()\n",
    "doubling1D = np.zeros(((2 * ntheta - 2)* nphi))\n",
    "import matplotlib.pyplot as plt\n",
    "nphihalf = nphi // 2\n",
    "npix = ntheta * nphi\n",
    "dtheta = 2 * ntheta-2\n",
    "\n",
    "for phii in range(nphi):\n",
    "    # print(phii)\n",
    "    for ringi in range(2 * ntheta-2):\n",
    "        if (ringi < ntheta):\n",
    "            doubling1D[phii * (2*ntheta-2) + ringi] = synth1D[phii * ntheta + ringi]\n",
    "        else:\n",
    "            if phii<nphihalf: #bottom left\n",
    "                widx = phii * (2*ntheta-2) + ringi\n",
    "                # base = ntheta*(nphi//2)+ntheta + phii * ntheta - 2\n",
    "                # add = (ntheta-ringi)\n",
    "                # ridx = base + add\n",
    "                # print(\"idx {} -> idx {}, synth1D[{}] = {}, base: {}, add: {}\".format(widx, ridx,  ridx, synth1D[ridx], base, add))\n",
    "                doubling1D[phii * (2*ntheta-2) + ringi] = synth1D[ntheta*(nphi//2)+ntheta + phii * ntheta - 2 + (ntheta-ringi)]\n",
    "            else: # bottom right\n",
    "                widx = phii * (2*ntheta-2) + ringi\n",
    "                # base = (phii-nphihalf) * ntheta + ntheta - 2 + (ntheta-ringi)\n",
    "                # add = (ntheta-ringi)\n",
    "                # ridx = base + add\n",
    "                # print(\"idx {} -> idx {}, synth1D[{}] = {}, base: {}, add: {}\".format(widx, ridx,  ridx, synth1D[ridx], base, add))\n",
    "                doubling1D[widx] = synth1D[(phii-nphihalf) * ntheta + ntheta - 2 + (ntheta-ringi)]\n",
    "    # print(s)\n",
    "print(doubling1D.flatten().astype(int))\n",
    "fig, ax = plt.subplots(1,3,figsize=(14,6))\n",
    "ax[0].imshow(doubling1D_py)\n",
    "ax[0].set_title('Truth')\n",
    "ax[1].imshow(doubling1D.reshape(nphi, 2*ntheta - 2).T)\n",
    "ax[1].set_title(\"Trial\")\n",
    "ax[2].imshow(doubling1D_py-doubling1D.reshape(nphi, 2*ntheta - 2).T, cmap=\"PiYG\", vmin=-10, vmax=10)\n",
    "\n",
    "# (doubling1D_py) - (doubling1D.reshape(nphi, 2*ntheta - 2).T)\n",
    "# doubling1D.reshape(2*ntheta - 2, nphi)\n",
    "# print(doubling1D_py.T.flatten().astype(int))\n",
    "print(doubling1D.flatten().astype(int))\n",
    "# print(synth1D.flatten())"
   ]
  },
  {
   "cell_type": "markdown",
   "metadata": {},
   "source": [
    "# adjoint doubling"
   ]
  },
  {
   "cell_type": "code",
   "execution_count": 2,
   "metadata": {},
   "outputs": [],
   "source": [
    "import numpy as np\n",
    "import ducc0\n",
    "lmax = 5\n",
    "ntheta = (ducc0.fft.good_size(lmax + 2) + 3) // 4 * 4\n",
    "nphi = ducc0.fft.good_size(lmax + 1) * 2\n",
    "synth1D = np.arange((ntheta * nphi)).reshape(nphi,-1).T.flatten()\n",
    "doubling1D_py = np.zeros((2 * ntheta-2, nphi))\n",
    "synth1D_py = np.copy(synth1D.reshape(ntheta, nphi))\n",
    "\n",
    "nphihalf = nphi//2\n",
    "doubling1D_py[:ntheta, :] = synth1D_py\n",
    "doubling1D_py[ntheta:, :nphihalf] = doubling1D_py[ntheta-2:0:-1, nphihalf:]\n",
    "doubling1D_py[ntheta:, nphihalf:] = doubling1D_py[ntheta-2:0:-1, :nphihalf]\n",
    "\n",
    "# doubling1D_py"
   ]
  },
  {
   "cell_type": "code",
   "execution_count": 3,
   "metadata": {},
   "outputs": [
    {
     "name": "stdout",
     "output_type": "stream",
     "text": [
      "96 (96,)\n"
     ]
    }
   ],
   "source": [
    "d1D_py = np.copy(doubling1D_py)\n",
    "d1D_py[1:ntheta - 1, :nphihalf] += d1D_py[-1:ntheta - 1:-1, nphihalf:]#d1D_py[-1:ntheta - 1:-1, nphihalf:]\n",
    "d1D_py[1:ntheta - 1, nphihalf:] += d1D_py[-1:ntheta - 1:-1, :nphihalf]#d1D_py[-1:ntheta - 1:-1, :nphihalf]\n",
    "d1D_py = d1D_py[:ntheta, :]\n",
    "map_und = np.empty((1, ntheta, nphi))\n",
    "map_und[0] = d1D_py.real\n",
    "print(map_und.size, synth1D.shape)\n"
   ]
  },
  {
   "cell_type": "code",
   "execution_count": 4,
   "metadata": {},
   "outputs": [
    {
     "data": {
      "text/plain": [
       "Text(0.5, 1.0, 'map')"
      ]
     },
     "execution_count": 4,
     "metadata": {},
     "output_type": "execute_result"
    },
    {
     "data": {
      "image/png": "[encoded data removed]",
      "text/plain": [
       "<Figure size 800x400 with 2 Axes>"
      ]
     },
     "metadata": {},
     "output_type": "display_data"
    }
   ],
   "source": [
    "import matplotlib.pyplot as plt\n",
    "fig, ax = plt.subplots(1,2, figsize=(8,4))\n",
    "ax[0].imshow(map_und[0], vmin=np.min(synth1D), vmax=np.max(map_und[0]))\n",
    "ax[0].set_title(r\"$d^{\\dagger}\\left(d(map)\\right)$\")\n",
    "ax[1].imshow(synth1D_py, vmin=np.min(synth1D), vmax=np.max(map_und[0]))\n",
    "ax[1].set_title(r\"map\")"
   ]
  },
  {
   "cell_type": "code",
   "execution_count": 5,
   "metadata": {},
   "outputs": [
    {
     "data": {
      "text/plain": [
       "array([[0, 0, 0, 0, 0, 0, 0, 0, 0, 0, 0, 0],\n",
       "       [0, 0, 0, 0, 0, 0, 0, 0, 0, 0, 0, 0],\n",
       "       [0, 0, 0, 0, 0, 0, 0, 0, 0, 0, 0, 0],\n",
       "       [0, 0, 0, 0, 0, 0, 0, 0, 0, 0, 0, 0],\n",
       "       [0, 0, 0, 0, 0, 0, 0, 0, 0, 0, 0, 0],\n",
       "       [0, 0, 0, 0, 0, 0, 0, 0, 0, 0, 0, 0],\n",
       "       [0, 0, 0, 0, 0, 0, 0, 0, 0, 0, 0, 0],\n",
       "       [0, 0, 0, 0, 0, 0, 0, 0, 0, 0, 0, 0]])"
      ]
     },
     "execution_count": 5,
     "metadata": {},
     "output_type": "execute_result"
    },
    {
     "data": {
      "image/png": "[encoded data removed]",
      "text/plain": [
       "<Figure size 1400x600 with 3 Axes>"
      ]
     },
     "metadata": {},
     "output_type": "display_data"
    }
   ],
   "source": [
    "import numpy as np\n",
    "import matplotlib.pyplot as plt\n",
    "synth1D_cu = np.arange((ntheta * nphi))\n",
    "synth1D_cu[:] = doubling1D_py.flatten()[:ntheta*nphi]\n",
    "doubling1D = np.copy(doubling1D_py.flatten())\n",
    "\n",
    "nphihalf = nphi // 2\n",
    "npix = ntheta * nphi\n",
    "npixplusnphihalf = 2*(ntheta-2)*nphi + nphihalf\n",
    "for ringi in range(1,ntheta-1):\n",
    "    doubleringi = (ntheta-1 + (ringi))%ntheta\n",
    "    for phii in range(0, nphi):\n",
    "        if phii<nphihalf:\n",
    "            synth1D_cu[ringi * nphi + phii] += doubling1D[npixplusnphihalf - (doubleringi-1)*nphi + phii]\n",
    "        else:\n",
    "            synth1D_cu[ringi * nphi + phii] += doubling1D[npixplusnphihalf - (doubleringi)*nphi + phii]\n",
    "\n",
    "fig, ax = plt.subplots(1,3,figsize=(14,6))\n",
    "ax[0].imshow(map_und[0], vmin=0, vmax=npix)\n",
    "ax[0].set_title('Truth')\n",
    "ax[1].imshow(synth1D_cu.reshape(ntheta, nphi), vmin=0, vmax=npix)\n",
    "ax[1].set_title(\"Trial\")\n",
    "ax[2].imshow(map_und[0]-synth1D_cu.reshape(ntheta, nphi), cmap=\"seismic\", vmin=-10, vmax=10)\n",
    "\n",
    "((map_und[0]) - (synth1D_cu.reshape(ntheta, nphi))).astype(int)"
   ]
  },
  {
   "cell_type": "markdown",
   "metadata": {},
   "source": [
    "# adjoint doubling - contiguous"
   ]
  },
  {
   "cell_type": "markdown",
   "metadata": {},
   "source": []
  }
 ],
 "metadata": {
  "kernelspec": {
   "display_name": "cunusht",
   "language": "python",
   "name": "python3"
  },
  "language_info": {
   "codemirror_mode": {
    "name": "ipython",
    "version": 3
   },
   "file_extension": ".py",
   "mimetype": "text/x-python",
   "name": "python",
   "nbconvert_exporter": "python",
   "pygments_lexer": "ipython3",
   "version": "3.10.10"
  }
 },
 "nbformat": 4,
 "nbformat_minor": 2
}
