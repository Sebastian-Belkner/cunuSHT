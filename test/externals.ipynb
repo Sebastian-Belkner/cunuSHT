{
 "cells": [
  {
   "cell_type": "markdown",
   "metadata": {},
   "source": [
    "Header"
   ]
  },
  {
   "cell_type": "code",
   "execution_count": 1,
   "metadata": {},
   "outputs": [
    {
     "name": "stdout",
     "output_type": "stream",
     "text": [
      "[SHTns 3.6.6] built Feb 29 2024, 11:27:49, id: v3.6.6*,avx512,ishioka,openmp\n",
      "mpisupport: True, pmisupport: False\n",
      "disabling mpi\n",
      "Using lenspyx alm2map\n",
      "INFO:: 02-29 14:46:06:: delensalot.sims.sims_lib.__init__ - sht_solver not given, defaulting to ducc\n",
      "INFO:: 02-29 14:46:06:: delensalot.sims.sims_lib.__init__ - sht_backend not given, defaulting to CPU\n",
      "INFO:: 02-29 14:46:07:: delensalot.sims.sims_lib.__init__ - sht_solver not given, defaulting to ducc\n",
      "INFO:: 02-29 14:46:07:: delensalot.sims.sims_lib.__init__ - sht_backend not given, defaulting to CPU\n"
     ]
    }
   ],
   "source": [
    "import numpy as np\n",
    "import time\n",
    "import healpy as hp\n",
    "import matplotlib.pyplot as plt\n",
    "import cupy as cp\n",
    "import pysht\n",
    "from pysht import get_geom\n",
    "import delensalot\n",
    "from delensalot import utils\n",
    "from delensalot.sims.sims_lib import Xunl, Xsky, Xobs\n",
    "\n",
    "lmax, mmax = 1024, 1024\n",
    "ll = np.arange(0,lmax)\n",
    "# geominfo = ('tgl',{'lmax': lmax, 'smax':3})\n",
    "geominfo = ('gl',{'lmax':lmax})\n",
    "# geominfo = ('cc',{'nphi':1032, 'ntheta':2058})\n",
    "# geominfo = ('healpix',{'nside': 512})\n",
    "\n",
    "synunl = Xunl(lmax=lmax, geominfo=geominfo)\n",
    "synsky = Xsky(lmax=lmax, unl_lib=synunl, geominfo=geominfo)\n",
    "\n",
    "philm = synunl.get_sim_phi(0, space='alm')\n",
    "dlm = hp.almxfl(philm, np.sqrt(ll*(ll+1)))\n",
    "\n",
    "Tunl = synunl.get_sim_unl(0, spin=0, space='alm', field='temperature')\n",
    "Tsky = synsky.get_sim_sky(0, spin=0, space='map', field='temperature')\n",
    "\n",
    "# t.constructor.spat_shape"
   ]
  },
  {
   "cell_type": "markdown",
   "metadata": {},
   "source": [
    "# nuFFT test"
   ]
  },
  {
   "cell_type": "markdown",
   "metadata": {},
   "source": [
    "## CPU"
   ]
  },
  {
   "cell_type": "code",
   "execution_count": 8,
   "metadata": {},
   "outputs": [
    {
     "name": "stdout",
     "output_type": "stream",
     "text": [
      "Testing function synthesis_general...\n"
     ]
    },
    {
     "ename": "AttributeError",
     "evalue": "type object 'CPU_finufft_transformer' has no attribute 'synthesis_general'",
     "output_type": "error",
     "traceback": [
      "\u001b[0;31m---------------------------------------------------------------------------\u001b[0m",
      "\u001b[0;31mAttributeError\u001b[0m                            Traceback (most recent call last)",
      "Cell \u001b[0;32mIn[8], line 18\u001b[0m\n\u001b[1;32m     15\u001b[0m t \u001b[38;5;241m=\u001b[39m pysht\u001b[38;5;241m.\u001b[39mget_transformer(solver, mode, backend)\n\u001b[1;32m     17\u001b[0m \u001b[38;5;28mprint\u001b[39m(\u001b[38;5;124m\"\u001b[39m\u001b[38;5;124mTesting function synthesis_general...\u001b[39m\u001b[38;5;124m\"\u001b[39m)\n\u001b[0;32m---> 18\u001b[0m defres \u001b[38;5;241m=\u001b[39m \u001b[43mt\u001b[49m\u001b[38;5;241;43m.\u001b[39;49m\u001b[43msynthesis_general\u001b[49m(Tunl\u001b[38;5;241m.\u001b[39mcopy(), dlm\u001b[38;5;241m=\u001b[39mdlm, lmax\u001b[38;5;241m=\u001b[39mlmax, mmax\u001b[38;5;241m=\u001b[39mlmax, spin\u001b[38;5;241m=\u001b[39m\u001b[38;5;241m0\u001b[39m, nthreads\u001b[38;5;241m=\u001b[39m\u001b[38;5;241m4\u001b[39m)\n\u001b[1;32m     20\u001b[0m \u001b[38;5;28mprint\u001b[39m(\u001b[38;5;124m\"\u001b[39m\u001b[38;5;124mTesting function adjoint_synthesis_general...\u001b[39m\u001b[38;5;124m\"\u001b[39m)\n\u001b[1;32m     21\u001b[0m defres \u001b[38;5;241m=\u001b[39m t\u001b[38;5;241m.\u001b[39madjoint_synthesis_general(Tunl\u001b[38;5;241m.\u001b[39mcopy(), dlm\u001b[38;5;241m=\u001b[39mdlm, lmax\u001b[38;5;241m=\u001b[39mlmax, mmax\u001b[38;5;241m=\u001b[39mlmax, spin\u001b[38;5;241m=\u001b[39m\u001b[38;5;241m0\u001b[39m, nthreads\u001b[38;5;241m=\u001b[39m\u001b[38;5;241m4\u001b[39m)\n",
      "\u001b[0;31mAttributeError\u001b[0m: type object 'CPU_finufft_transformer' has no attribute 'synthesis_general'"
     ]
    }
   ],
   "source": [
    "\"\"\"\n",
    "CPU nuFFT\n",
    "\"\"\"\n",
    "deflection_kwargs = {\n",
    "    'dlm':dlm,\n",
    "    'mmax_dlm':len(ll),\n",
    "    'epsilon':1e-5,\n",
    "    'verbosity':0,\n",
    "    'single_prec':False,\n",
    "    'planned':False}\n",
    "sht_solver = 'ducc' # 'shtns'\n",
    "for solver in ['finufft', 'duccnufft']:\n",
    "    for backend in ['CPU']:\n",
    "        for mode in ['nuFFT']:\n",
    "            t = pysht.get_transformer(solver, mode, backend)\n",
    "\n",
    "            print(\"Testing function synthesis_general...\")\n",
    "            defres = t.synthesis_general(lmax, mmax, Tsky, [0,1], 0, 1e-5, 4, mode='GRAD_ONLY', Tunl.copy(), verbose=1)\n",
    "            \n",
    "            print(\"Testing function adjoint_synthesis_general...\")\n",
    "            defres = t.adjoint_synthesis_general(Tunl.copy(), dlm=dlm, lmax=lmax, mmax=lmax, spin=0, nthreads=4)\n",
    "\n",
    "            print(\"Testing solver={} backend={} mode={}...\".format(solver, backend, mode))\n",
    "            t = pysht.get_transformer(solver, mode, backend)\n",
    "            t = t(sht_solver, geominfo, deflection_kwargs)\n",
    "            print(\"\\n----Testing function gclm2lenmap...----\")\n",
    "            defres = t.gclm2lenmap(Tunl.copy(), dlm=dlm, lmax=lmax, mmax=lmax, spin=0, nthreads=4)\n",
    "\n",
    "            print(\"\\n----Testing function lenmap2gclm...----\")\n",
    "            defres = t.lenmap2gclm(points=Tsky.copy(), dlm=dlm, spin=0, lmax=lmax, mmax=lmax, nthreads=4)\n",
    "            \n",
    "            print(\"\\n----Testing function lensgclm...----\")\n",
    "            defres = t.lensgclm(Tunl.copy(), spin=0, dlm=dlm, lmax_out=lmax, nthreads=4)\n",
    "\n",
    "            print('\\n\\n')"
   ]
  },
  {
   "cell_type": "markdown",
   "metadata": {},
   "source": [
    "## GPU"
   ]
  },
  {
   "cell_type": "code",
   "execution_count": 4,
   "metadata": {},
   "outputs": [
    {
     "name": "stdout",
     "output_type": "stream",
     "text": [
      "Testing solver=cufinufft backend=GPU mode=nuFFT...\n",
      "deflection std is 2.57e+00 amin\n",
      "\n",
      "----Testing function gclm2lenmap...----\n",
      "deflection std is 2.57e+00 amin\n",
      "build_angles\n",
      "\n",
      "----Testing function lenmap2gclm...----\n",
      "Nu2u:\n",
      "  nthreads=4, grid=(2056x2058), oversampled grid=(3200x3200), supp=10, eps=1.000000000000000e-07\n",
      "  npoints=2214000\n",
      "  memory overhead: 8.247792720794678e-03GB (index) + 1.525878906250000e-01GB (oversampled grid)\n",
      "\n",
      "Total wall clock time for nu2u: 0.1884s\n",
      "|\n",
      "+- nu2u proper          : 92.67% (0.1746s)\n",
      "|  |\n",
      "|  +- spreading            : 62.15% (0.1085s)\n",
      "|  +- FFT                  : 28.51% (0.0498s)\n",
      "|  +- zeroing grid         :  5.13% (0.0090s)\n",
      "|  +- grid correction      :  4.19% (0.0073s)\n",
      "|  +- allocating grid      :  0.01% (0.0000s)\n",
      "|  \n",
      "+- building index       :  7.09% (0.0134s)\n",
      "+- correction factors   :  0.16% (0.0003s)\n",
      "+- parameter calculation:  0.01% (0.0000s)\n",
      "\n",
      "----Testing function lensgclm...----\n",
      "\n",
      "\n",
      "\n"
     ]
    }
   ],
   "source": [
    "\"\"\"\n",
    "GPU nuFFT\n",
    "\"\"\"\n",
    "deflection_kwargs = {\n",
    "    'dlm':dlm,\n",
    "    'mmax_dlm':len(ll),\n",
    "    'epsilon':1e-5,\n",
    "    'verbosity':0,\n",
    "    'single_prec':False,\n",
    "    'planned':False}\n",
    "sht_solver = 'ducc' # shtns\n",
    "for solver in ['cufinufft']:\n",
    "    for backend in ['GPU']:\n",
    "        for mode in ['nuFFT']:\n",
    "            print(\"Testing solver={} backend={} mode={}...\".format(solver, backend, mode))\n",
    "            t = pysht.get_transformer(solver, mode, backend)\n",
    "            t = t(sht_solver, geominfo, deflection_kwargs)\n",
    "            # t.set_geometry(geominfo)\n",
    "            print(\"\\n----Testing function gclm2lenmap...----\")\n",
    "            defres = t.gclm2lenmap(gclm=Tunl.copy(), dlm=dlm, lmax=lmax, mmax=lmax, spin=0, nthreads=4)\n",
    "\n",
    "            print(\"\\n----Testing function lenmap2gclm...----\")\n",
    "            defres = t.lenmap2gclm(points=Tsky.copy(), dlm=dlm, spin=0, lmax=lmax, mmax=lmax, nthreads=4)\n",
    "            \n",
    "            print(\"\\n----Testing function lensgclm...----\")\n",
    "            defres = t.lensgclm(Tunl.copy(), spin=0, lmax_out=lmax, dlm=dlm, nthreads=4)\n",
    "\n",
    "            print(\"Testing function synthesis_general...\")\n",
    "            defres = t.synthesis_general(Tunl.copy(), dlm=dlm, lmax=lmax, mmax=lmax, spin=0, nthreads=4)\n",
    "            \n",
    "            print(\"Testing function adjoint_synthesis_general...\")\n",
    "            defres = t.adjoint_synthesis_general(Tunl.copy(), dlm=dlm, lmax=lmax, mmax=lmax, spin=0, nthreads=4)\n",
    "            print('\\n\\n')"
   ]
  },
  {
   "cell_type": "markdown",
   "metadata": {},
   "source": [
    "# SHT test"
   ]
  },
  {
   "cell_type": "markdown",
   "metadata": {},
   "source": [
    "## CPU"
   ]
  },
  {
   "cell_type": "code",
   "execution_count": 17,
   "metadata": {},
   "outputs": [
    {
     "name": "stdout",
     "output_type": "stream",
     "text": [
      "Testing solver=shtns backend=CPU mode=SHT...\n"
     ]
    },
    {
     "name": "stdout",
     "output_type": "stream",
     "text": [
      "Testing function synthesis_general...\n",
      "Testing function adjoint_synthesis_general...\n",
      "\n",
      "\n",
      "\n",
      "Testing solver=ducc backend=CPU mode=SHT...\n",
      "Testing function synthesis_general...\n",
      "Testing function adjoint_synthesis_general...\n",
      "\n",
      "\n",
      "\n"
     ]
    }
   ],
   "source": [
    "\n",
    "\"\"\"\n",
    "CPU SHT\n",
    "\"\"\"\n",
    "for solver in ['shtns', 'ducc']:\n",
    "    for backend in ['CPU']:\n",
    "        for mode in ['SHT']:\n",
    "            print(\"Testing solver={} backend={} mode={}...\".format(solver, backend, mode))\n",
    "            t = pysht.get_transformer(solver, mode, backend)(geominfo)\n",
    "\n",
    "            print(\"Testing function synthesis_general...\")\n",
    "            defres = t.synthesis(Tunl.copy(), lmax=lmax, mmax=lmax, spin=0, nthreads=4)\n",
    "            \n",
    "            print(\"Testing function adjoint_synthesis_general...\")\n",
    "            if solver == 'shtns':\n",
    "                m = np.random.random(size=t.constructor.spat_shape)\n",
    "            else:\n",
    "                m = Tsky\n",
    "            defres = t.adjoint_synthesis(m.copy(), lmax=lmax, mmax=lmax, spin=0, nthreads=4)\n",
    "            print('\\n\\n')"
   ]
  },
  {
   "cell_type": "code",
   "execution_count": 2,
   "metadata": {},
   "outputs": [
    {
     "name": "stdout",
     "output_type": "stream",
     "text": [
      "Testing solver=shtns backend=GPU mode=SHT...\n",
      "Testing function synthesis_general...\n",
      "Testing function adjoint_synthesis_general...\n",
      "\n",
      "\n",
      "\n"
     ]
    }
   ],
   "source": [
    "\n",
    "\"\"\"\n",
    "GPU SHT\n",
    "\"\"\"\n",
    "for solver in ['shtns']:\n",
    "    for backend in ['GPU']:\n",
    "        for mode in ['SHT']:\n",
    "            print(\"Testing solver={} backend={} mode={}...\".format(solver, backend, mode))\n",
    "            t = pysht.get_transformer(solver, mode, backend)(geominfo)\n",
    "\n",
    "            print(\"Testing function synthesis_general...\")\n",
    "            defres = t.synthesis(Tunl.copy(), lmax=lmax, mmax=lmax, spin=0, nthreads=4)\n",
    "            \n",
    "            print(\"Testing function adjoint_synthesis_general...\")\n",
    "            if solver == 'shtns':\n",
    "                m = np.random.random(size=t.constructor.spat_shape)\n",
    "            else:\n",
    "                m = Tsky\n",
    "            defres = t.adjoint_synthesis(m.copy(), lmax=lmax, mmax=lmax, spin=0, nthreads=4)\n",
    "            print('\\n\\n')"
   ]
  }
 ],
 "metadata": {
  "kernelspec": {
   "display_name": "pysht_jk",
   "language": "python",
   "name": "pysht_jk"
  },
  "language_info": {
   "codemirror_mode": {
    "name": "ipython",
    "version": 3
   },
   "file_extension": ".py",
   "mimetype": "text/x-python",
   "name": "python",
   "nbconvert_exporter": "python",
   "pygments_lexer": "ipython3",
   "version": "3.10.10"
  }
 },
 "nbformat": 4,
 "nbformat_minor": 2
}
