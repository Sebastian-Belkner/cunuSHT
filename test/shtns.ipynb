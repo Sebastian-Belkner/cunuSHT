{
 "cells": [
  {
   "cell_type": "code",
   "execution_count": 1,
   "metadata": {},
   "outputs": [],
   "source": [
    "import numpy as np\n",
    "import time\n",
    "import matplotlib.pyplot as plt\n",
    "\n",
    "import lenspyx\n",
    "from lenspyx.lensing import get_geom\n",
    "\n",
    "import healpy as hp\n",
    "\n",
    "import shtns\n",
    "import pysht"
   ]
  },
  {
   "cell_type": "code",
   "execution_count": null,
   "metadata": {},
   "outputs": [],
   "source": [
    "# tlib.synthesis(alm, lmax=lmax, mmax=lmax, nthreads=1)\n",
    "# pysht.set_backend('GPU')\n",
    "# pysht.synthesis()\n"
   ]
  },
  {
   "cell_type": "markdown",
   "metadata": {},
   "source": [
    "# Config"
   ]
  },
  {
   "cell_type": "code",
   "execution_count": 4,
   "metadata": {},
   "outputs": [
    {
     "data": {
      "text/plain": [
       "[16, 64, 256, 1024, 4096]"
      ]
     },
     "execution_count": 4,
     "metadata": {},
     "output_type": "execute_result"
    }
   ],
   "source": [
    "lmax, mmax = (4096, 4096)\n",
    "lmaxs = [2**x for x in np.arange(4, 14, 2)]\n",
    "lmaxs"
   ]
  },
  {
   "cell_type": "markdown",
   "metadata": {},
   "source": [
    "# SHTns"
   ]
  },
  {
   "cell_type": "code",
   "execution_count": 3,
   "metadata": {},
   "outputs": [],
   "source": [
    "# shtns.__dict__\n",
    "# sh = shtns.sht(2, 2)\n",
    "# sh_funcs = [method_name for method_name in dir(sh) if (callable(getattr(sh, method_name)) and not method_name.startswith(\"__\"))]\n",
    "\n",
    "# import inspect\n",
    "# print(sh.__doc__)\n",
    "# for func in sh_funcs:\n",
    "#     print(\"{}{}:\".format(func, inspect.signature(getattr(sh, func))))\n",
    "#     print(\"\\t'''\\n{}\".format(getattr(sh, func).__doc__).replace(\"\\n\", \"\\n\\t\"), end=\"\\n\\t'''\\n\\n\")"
   ]
  },
  {
   "cell_type": "code",
   "execution_count": 5,
   "metadata": {},
   "outputs": [
    {
     "name": "stdout",
     "output_type": "stream",
     "text": [
      "16\n",
      "64\n",
      "256\n",
      "1024\n",
      "4096\n",
      "gpu grids set\n",
      "cpu grids set\n"
     ]
    }
   ],
   "source": [
    "\"\"\"\n",
    "This cell initializes CPU and GPU and their grids\n",
    "\"\"\"\n",
    "sh_cpus = []\n",
    "sh_gpus = []\n",
    "\n",
    "for lmax in lmaxs:\n",
    "    print(lmax)\n",
    "    sh_cpus.append(shtns.sht(int(lmax), int(lmax)))\n",
    "    sh_gpus.append(shtns.sht(int(lmax), int(lmax)))\n",
    "\n",
    "\n",
    "[sh_gpu.set_grid(flags=shtns.SHT_ALLOW_GPU + shtns.SHT_THETA_CONTIGUOUS) for sh_gpu in sh_gpus]\n",
    "print('gpu grids set')\n",
    "\n",
    "[sh_cpu.set_grid(flags=shtns.SHT_THETA_CONTIGUOUS) for sh_cpu in sh_cpus]\n",
    "print('cpu grids set')\n",
    "\n",
    "salms = [sh_gpu.spec_array() for sh_gpu in sh_gpus]\n",
    "smaps = [sh_gpu.spat_array() for sh_gpu in sh_gpus]"
   ]
  },
  {
   "cell_type": "code",
   "execution_count": 7,
   "metadata": {},
   "outputs": [
    {
     "name": "stdout",
     "output_type": "stream",
     "text": [
      "6.96 µs ± 290 ns per loop (mean ± std. dev. of 7 runs, 100,000 loops each)\n",
      "49.2 µs ± 1.24 µs per loop (mean ± std. dev. of 7 runs, 10,000 loops each)\n",
      "1.42 ms ± 37.8 µs per loop (mean ± std. dev. of 7 runs, 1,000 loops each)\n",
      "68.5 ms ± 1.48 ms per loop (mean ± std. dev. of 7 runs, 10 loops each)\n",
      "3.55 s ± 45.6 ms per loop (mean ± std. dev. of 7 runs, 1 loop each)\n",
      "32.8 µs ± 437 ns per loop (mean ± std. dev. of 7 runs, 10,000 loops each)\n",
      "77.8 µs ± 290 ns per loop (mean ± std. dev. of 7 runs, 10,000 loops each)\n",
      "646 µs ± 1.2 µs per loop (mean ± std. dev. of 7 runs, 1,000 loops each)\n",
      "9.29 ms ± 12.2 µs per loop (mean ± std. dev. of 7 runs, 100 loops each)\n",
      "303 ms ± 1.67 ms per loop (mean ± std. dev. of 7 runs, 1 loop each)\n"
     ]
    }
   ],
   "source": [
    "\"\"\"\n",
    "For various lmax, run alm2map() timing on CPU/GPU with SHTns\n",
    "\"\"\"\n",
    "\n",
    "stime_cpus = np.zeros_like(sh_cpus)\n",
    "for sh_cpui, sh_cpu in enumerate(sh_cpus):\n",
    "    stime_cpus[sh_cpui] = %timeit -o sh_cpu.synth(salms[sh_cpui])\n",
    "stime_gpus = np.zeros_like(sh_gpus)\n",
    "for sh_gpui, sh_gpu in enumerate(sh_gpus):\n",
    "    stime_gpus[sh_gpui] = %timeit -o sh_gpu.synth(salms[sh_gpui])\n",
    "\n",
    "# 5.7 µs ± 18.6 ns per loop (mean ± std. dev. of 7 runs, 100,000 loops each)\n",
    "# 42.2 µs ± 1.44 µs per loop (mean ± std. dev. of 7 runs, 10,000 loops each)\n",
    "# 1.18 ms ± 15.8 µs per loop (mean ± std. dev. of 7 runs, 1,000 loops each)\n",
    "# 56.9 ms ± 2.13 ms per loop (mean ± std. dev. of 7 runs, 10 loops each)\n",
    "# 2.93 s ± 39.5 ms per loop (mean ± std. dev. of 7 runs, 1 loop each)\n",
    "# 31.3 µs ± 992 ns per loop (mean ± std. dev. of 7 runs, 10,000 loops each)\n",
    "# 66.3 µs ± 115 ns per loop (mean ± std. dev. of 7 runs, 10,000 loops each)\n",
    "# 509 µs ± 1.69 µs per loop (mean ± std. dev. of 7 runs, 1,000 loops each)\n",
    "# 7.43 ms ± 1.96 ms per loop (mean ± std. dev. of 7 runs, 100 loops each)\n",
    "# 144 ms ± 245 µs per loop (mean ± std. dev. of 7 runs, 10 loops each)"
   ]
  },
  {
   "cell_type": "markdown",
   "metadata": {},
   "source": [
    "# Healpy"
   ]
  },
  {
   "cell_type": "code",
   "execution_count": 6,
   "metadata": {},
   "outputs": [
    {
     "name": "stdout",
     "output_type": "stream",
     "text": [
      "60 µs ± 503 ns per loop (mean ± std. dev. of 7 runs, 10,000 loops each)\n",
      "516 µs ± 4.07 µs per loop (mean ± std. dev. of 7 runs, 1,000 loops each)\n",
      "11.2 ms ± 227 µs per loop (mean ± std. dev. of 7 runs, 100 loops each)\n",
      "402 ms ± 8.22 ms per loop (mean ± std. dev. of 7 runs, 1 loop each)\n",
      "19.4 s ± 513 ms per loop (mean ± std. dev. of 7 runs, 1 loop each)\n"
     ]
    }
   ],
   "source": [
    "\"\"\"\n",
    "For various lmax, run alm2map() timing on CPU with healpy \n",
    "\"\"\"\n",
    "! export OMPU_NUM_THREADS=16\n",
    "h_cpus = []\n",
    "hmaps = []\n",
    "h_alms = []\n",
    "for lmax in lmaxs:\n",
    "    h_alms.append(np.array([complex(a,b) for a, b in zip(np.random.random(size=hp.Alm.getsize(lmax)), np.random.random(size=hp.Alm.getsize(lmax)))]))\n",
    "\n",
    "htime_cpus = [None for _ in lmaxs]\n",
    "for h_almi, h_alm in enumerate(h_alms):\n",
    "    htime_cpus[h_almi] = %timeit -o hp.alm2map(h_alm, nside=int((lmaxs[h_almi]+1)/2))\n",
    "\n",
    "# 50.7 µs ± 1.84 µs per loop (mean ± std. dev. of 7 runs, 10,000 loops each)\n",
    "# 432 µs ± 2.53 µs per loop (mean ± std. dev. of 7 runs, 1,000 loops each)\n",
    "# 9.85 ms ± 350 µs per loop (mean ± std. dev. of 7 runs, 100 loops each)\n",
    "# 359 ms ± 473 µs per loop (mean ± std. dev. of 7 runs, 1 loop each)\n",
    "# 17.1 s ± 40.1 ms per loop (mean ± std. dev. of 7 runs, 1 loop each)"
   ]
  },
  {
   "cell_type": "code",
   "execution_count": 22,
   "metadata": {},
   "outputs": [
    {
     "name": "stdout",
     "output_type": "stream",
     "text": [
      "\n"
     ]
    }
   ],
   "source": [
    "! export OMPU_NUM_THREADS=16\n",
    "! echo \"$OMPU_NUM_THREADS\""
   ]
  },
  {
   "cell_type": "markdown",
   "metadata": {},
   "source": [
    "# Lenspyx"
   ]
  },
  {
   "cell_type": "code",
   "execution_count": 14,
   "metadata": {},
   "outputs": [],
   "source": [
    "\"\"\"\n",
    "For various lmax, run alm2map() timing on CPU with healpy.\n",
    "This cell generates alms\n",
    "\"\"\"\n",
    "pysht.set_backend('CPU')\n",
    "# pysht.get_backend()\n",
    "\n",
    "l_cpus = []\n",
    "lmaps = []\n",
    "lalms = []\n",
    "for lmax in lmaxs:\n",
    "    geominfo = ('gl',{'lmax': lmax})\n",
    "    l_cpus.append(get_geom(geominfo))\n",
    "    lmaps.append(np.random.random(size=l_cpus[-1].npix()))\n",
    "    buffer = l_cpus[-1].map2alm(lmaps[-1], lmax=lmax, mmax=lmax, nthreads=4)\n",
    "    lalms.append(np.array([complex(a,b) for a, b in zip(np.random.random(size=buffer.shape[0]), np.random.random(size=buffer.shape[0]))]))"
   ]
  },
  {
   "cell_type": "code",
   "execution_count": 15,
   "metadata": {},
   "outputs": [
    {
     "name": "stdout",
     "output_type": "stream",
     "text": [
      "35.4 µs ± 1.12 µs per loop (mean ± std. dev. of 7 runs, 10,000 loops each)\n",
      "218 µs ± 2.57 µs per loop (mean ± std. dev. of 7 runs, 1,000 loops each)\n",
      "5.41 ms ± 265 µs per loop (mean ± std. dev. of 7 runs, 100 loops each)\n",
      "204 ms ± 3.91 ms per loop (mean ± std. dev. of 7 runs, 1 loop each)\n",
      "10.7 s ± 296 ms per loop (mean ± std. dev. of 7 runs, 1 loop each)\n"
     ]
    }
   ],
   "source": [
    "\"\"\"\n",
    "For various lmax, run alm2map() timing on CPU with lenspyx \n",
    "\"\"\"\n",
    "ltime_cpus = np.zeros_like(l_cpus)\n",
    "for l_cpui, l_cpu in enumerate(l_cpus):\n",
    "    ltime_cpus[l_cpui] = %timeit -o l_cpu.alm2map(lalms[l_cpui], lmax=lmaxs[l_cpui], mmax=lmaxs[l_cpui], nthreads=1)\n",
    "\n",
    "\n",
    "# 22.7 µs ± 103 ns per loop (mean ± std. dev. of 7 runs, 10,000 loops each)\n",
    "# 174 µs ± 4.62 µs per loop (mean ± std. dev. of 7 runs, 10,000 loops each)\n",
    "# 4.33 ms ± 24 µs per loop (mean ± std. dev. of 7 runs, 100 loops each)\n",
    "# 172 ms ± 4.68 ms per loop (mean ± std. dev. of 7 runs, 10 loops each)\n",
    "# 8.75 s ± 50 ms per loop (mean ± std. dev. of 7 runs, 1 loop each)"
   ]
  },
  {
   "cell_type": "code",
   "execution_count": 16,
   "metadata": {},
   "outputs": [
    {
     "data": {
      "text/plain": [
       "[]"
      ]
     },
     "execution_count": 16,
     "metadata": {},
     "output_type": "execute_result"
    },
    {
     "data": {
      "image/png": "[encoded data removed]",
      "text/plain": [
       "<Figure size 720x576 with 1 Axes>"
      ]
     },
     "metadata": {
      "needs_background": "light"
     },
     "output_type": "display_data"
    }
   ],
   "source": [
    "plt.figure(figsize=(10,8))\n",
    "plt.errorbar(lmaxs, [stime.average for stime in stime_cpus], yerr=100*np.array([stime.stdev for stime in stime_cpus]), label='SHTns CPU')\n",
    "plt.errorbar(lmaxs, [stime.average for stime in stime_gpus], yerr=100*np.array([stime.stdev for stime in stime_gpus]), label='SHTns GPU')\n",
    "plt.errorbar(lmaxs, [ltime.average for ltime in ltime_cpus], yerr=100*np.array([ltime.stdev for ltime in ltime_cpus]), label='Lenspyx CPU')\n",
    "plt.errorbar(lmaxs, [htime.average for htime in htime_cpus], yerr=100*np.array([htime.stdev for htime in htime_cpus]), label='Healpy CPU')\n",
    "plt.legend(title='synth')\n",
    "\n",
    "plt.xlabel('lmax')\n",
    "plt.ylabel('time / [s]')\n",
    "plt.loglog()"
   ]
  },
  {
   "cell_type": "code",
   "execution_count": null,
   "metadata": {},
   "outputs": [],
   "source": []
  }
 ],
 "metadata": {
  "kernelspec": {
   "display_name": "shtgpu",
   "language": "python",
   "name": "shtgpu"
  },
  "language_info": {
   "codemirror_mode": {
    "name": "ipython",
    "version": 3
   },
   "file_extension": ".py",
   "mimetype": "text/x-python",
   "name": "python",
   "nbconvert_exporter": "python",
   "pygments_lexer": "ipython3",
   "version": "3.9.12"
  },
  "orig_nbformat": 4
 },
 "nbformat": 4,
 "nbformat_minor": 2
}
