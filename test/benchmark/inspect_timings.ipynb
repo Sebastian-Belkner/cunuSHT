{
 "cells": [
  {
   "cell_type": "code",
   "execution_count": 50,
   "metadata": {},
   "outputs": [
    {
     "name": "stdout",
     "output_type": "stream",
     "text": [
      "['Solarize_Light2', '_classic_test_patch', '_mpl-gallery', '_mpl-gallery-nogrid', 'bmh', 'classic', 'dark_background', 'fast', 'fivethirtyeight', 'ggplot', 'grayscale', 'seaborn-v0_8', 'seaborn-v0_8-bright', 'seaborn-v0_8-colorblind', 'seaborn-v0_8-dark', 'seaborn-v0_8-dark-palette', 'seaborn-v0_8-darkgrid', 'seaborn-v0_8-deep', 'seaborn-v0_8-muted', 'seaborn-v0_8-notebook', 'seaborn-v0_8-paper', 'seaborn-v0_8-pastel', 'seaborn-v0_8-poster', 'seaborn-v0_8-talk', 'seaborn-v0_8-ticks', 'seaborn-v0_8-white', 'seaborn-v0_8-whitegrid', 'tableau-colorblind10']\n"
     ]
    }
   ],
   "source": [
    "import json\n",
    "import matplotlib.pyplot as plt\n",
    "import numpy as np\n",
    "\n",
    "import matplotlib.style\n",
    "import matplotlib as mpl\n",
    "mpl.style.use('ggplot')\n",
    "print(mpl.style.available)\n",
    "\n",
    "for backends in [['CPU'],['CPU']]:\n",
    "    if backends == ['GPU']:\n",
    "        solvers = ['cufinufft']\n",
    "        data = []\n",
    "        lmaxs = np.array([2**n-1 for n in np.arange(11,13)])\n",
    "        for lmax in lmaxs:\n",
    "            with open('/mnt/home/sbelkner/git/pySHT/test/benchmark/timings/{backends}_{solver}_{lmax}'.format(backends=backends[0], solver=solvers[0], lmax=lmax), \"r\") as file:\n",
    "                data.append(json.load(file))\n",
    "        for popstring in [\"setup\", \"rotation\", \"dlm scaling\", \"spin-1 maps ->\"]:# \"pointing\", \"Transfers ->\", \"Transfer <-\"]:\n",
    "            if popstring in data[0]:\n",
    "                data[0].pop(popstring)\n",
    "        keys_GPU = data[0].keys()\n",
    "        data_across_l = {}\n",
    "        for d in data:\n",
    "            for keyi, key in enumerate(keys_GPU):\n",
    "                if key in data_across_l:\n",
    "                    data_across_l[key].append(d[key])\n",
    "                else:\n",
    "                    data_across_l[key] = [d[key]]\n",
    "        resGPU = np.array([v for k, v in data_across_l.items()])           \n",
    "    else:\n",
    "        backend = ['CPU']\n",
    "        solvers = ['lenspyx'] # duccnufft\n",
    "        d = []\n",
    "        lmaxs = np.array([2**n-1 for n in np.arange(11,13)])\n",
    "        data = []\n",
    "        for lmax in lmaxs:\n",
    "            with open('/mnt/home/sbelkner/git/pySHT/test/benchmark/timings/{backends}_{solver}_{lmax}'.format(backends=backends[0], solver=solvers[0], lmax=lmax), \"r\") as file:\n",
    "                data.append(json.load(file))\n",
    "        for popstring in [\"setup\", \"rotation\"]: #\"spin-1 maps\", \"get pointing\"\n",
    "            if popstring in data[0]:\n",
    "                data[0].pop(popstring)\n",
    "        keys_CPU = data[0].keys()\n",
    "        data_across_l = {}\n",
    "        for d in data:\n",
    "            for keyi, key in enumerate(keys_CPU):\n",
    "                if key in data_across_l:\n",
    "                    data_across_l[key].append(d[key])\n",
    "                else:\n",
    "                    data_across_l[key] = [d[key]]\n",
    "        resCPU = np.array([v for k, v in data_across_l.items()]) "
   ]
  },
  {
   "cell_type": "code",
   "execution_count": 52,
   "metadata": {},
   "outputs": [
    {
     "data": {
      "text/plain": [
       "<matplotlib.legend.Legend at 0x1554d3cf58a0>"
      ]
     },
     "execution_count": 52,
     "metadata": {},
     "output_type": "execute_result"
    },
    {
     "data": {
      "image/png": "[encoded data removed]",
      "text/plain": [
       "<Figure size 1200x800 with 2 Axes>"
      ]
     },
     "metadata": {},
     "output_type": "display_data"
    }
   ],
   "source": [
    "fig, ax = plt.subplots(1,2,figsize=(12,8), sharey=False)\n",
    "bottom = np.zeros(shape=(len(lmaxs)))\n",
    "# lmaxs.astype(str)\n",
    "for rowi, row in enumerate(resCPU): #[:-1,:]\n",
    "    if rowi == 0:\n",
    "        ax[0].bar(lmaxs.astype(str), [0,0], 1, align='center', bottom=bottom, label='_')    \n",
    "    ax[0].bar(lmaxs.astype(str), row, 1, align='center', bottom=bottom, label=list(keys_CPU)[rowi])\n",
    "    bottom+=row\n",
    "ax[0].legend()\n",
    "ax[0].set_title(\"CPU\")\n",
    "ax[0].set_ylim(0.0,7)\n",
    "handles, labels = ax[0].get_legend_handles_labels()\n",
    "ax[0].legend(handles[::-1], labels[::-1], title='Line', loc='upper left')\n",
    "\n",
    "bottom = 0\n",
    "# for rowi, row in enumerate(np.roll(resGPU,-1,axis=0)): #[:-1,:]\n",
    "for rowi, row in enumerate(resGPU): #[:-1,:]\n",
    "    ax[1].bar(lmaxs.astype(str), row, 1, align='center', bottom=bottom, label=list(keys_GPU)[rowi])\n",
    "    bottom+=row\n",
    "ax[1].legend()\n",
    "ax[1].set_title(\"GPU\")\n",
    "ax[1].set_ylim(0.0, 8.50)\n",
    "handles, labels = ax[1].get_legend_handles_labels()\n",
    "ax[1].legend(handles[::-1], labels[::-1], title='Line', loc='upper left')\n",
    "# ax[0].set_yscale('log')\n",
    "# ax[1].set_yscale('log')"
   ]
  },
  {
   "cell_type": "code",
   "execution_count": 21,
   "metadata": {},
   "outputs": [
    {
     "data": {
      "text/plain": [
       "(array([2.56211022, 2.72384167]),\n",
       " array([3.04827656, 2.75220372]),\n",
       " array([40.87254092, 48.46404051]),\n",
       " array([48.62819996, 48.96867325]))"
      ]
     },
     "execution_count": 21,
     "metadata": {},
     "output_type": "execute_result"
    }
   ],
   "source": [
    "resCPU[3]/resCPU[0], resGPU[1]/resGPU[2], resCPU[3]/resGPU[1], resCPU[0]/resGPU[2]"
   ]
  },
  {
   "cell_type": "code",
   "execution_count": null,
   "metadata": {},
   "outputs": [],
   "source": []
  },
  {
   "cell_type": "code",
   "execution_count": null,
   "metadata": {},
   "outputs": [],
   "source": []
  }
 ],
 "metadata": {
  "kernelspec": {
   "display_name": "pysht",
   "language": "python",
   "name": "python3"
  },
  "language_info": {
   "codemirror_mode": {
    "name": "ipython",
    "version": 3
   },
   "file_extension": ".py",
   "mimetype": "text/x-python",
   "name": "python",
   "nbconvert_exporter": "python",
   "pygments_lexer": "ipython3",
   "version": "3.10.10"
  }
 },
 "nbformat": 4,
 "nbformat_minor": 2
}
