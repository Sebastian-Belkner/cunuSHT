{
 "cells": [
  {
   "cell_type": "code",
   "execution_count": null,
   "metadata": {
    "tags": []
   },
   "outputs": [],
   "source": [
    "import time\n",
    "\n",
    "import numpy as np\n",
    "import healpy as hp\n",
    "import matplotlib.pyplot as plt\n",
    "import cupy as cp\n",
    "\n",
    "import ducc0\n",
    "from delensalot.sims.sims_lib import Xunl, Xsky, Xobs\n",
    "from lenspyx import cachers\n",
    "import cunusht\n",
    "\n",
    "mode = 'SHT'\n",
    "\n",
    "def get_toydata(lmax=1024, mmax=1024, geominfo=('gl',{'lmax': 1024})):\n",
    "    ll = np.arange(0,lmax)\n",
    "    # geominfo = ('gl',{'lmax': lmax})\n",
    "    # geominfo = ('healpix',{'nside': 512})\n",
    "\n",
    "    synunl = Xunl(lmax=lmax, geominfo=geominfo)\n",
    "    synsky = Xsky(lmax=lmax, unl_lib=synunl, geominfo=geominfo)\n",
    "\n",
    "    philm = synunl.get_sim_phi(0, space='alm')\n",
    "    dlm = hp.almxfl(philm, np.sqrt(ll*(ll+1)))\n",
    "\n",
    "    Tunl = synunl.get_sim_unl(0, spin=0, space='alm', field='temperature')\n",
    "    # Tsky = synsky.get_sim_sky(0, spin=0, space='map', field='temperature')\n",
    "\n",
    "    return Tunl, dlm, philm\n",
    "# int(t.geom.nph[0]/2-1)\n",
    "\n",
    "\n",
    "def synthesis(t, Tunl, solver, lmax):\n",
    "    defres = t.synthesis(Tunl.copy(), lmax=lmax, mmax=lmax, spin=0, nthreads=4)\n",
    "    return defres\n",
    "\n",
    "solvers = ['ducc', 'shtns']"
   ]
  },
  {
   "cell_type": "code",
   "execution_count": null,
   "metadata": {},
   "outputs": [],
   "source": [
    "solver = 'shtns'\n",
    "mode = 'SHT'\n",
    "backend = 'GPU'\n",
    "t = cunusht.get_transformer(solver, mode, backend)\n",
    "\n",
    "bm_GPU = []\n",
    "for lmax in 256*np.arange(1,16):\n",
    "    mmax = lmax\n",
    "    geominfo = ('gl',{'lmax': lmax})\n",
    "    t.set_geometry(geominfo)\n",
    "\n",
    "    Tunl, dlm, philm = get_toydata(lmax, mmax, geominfo)\n",
    "    result = %timeit -o -n1 -r1 synthesis(t, Tunl, solver, lmax)\n",
    "    bm_GPU.append([lmax, result])\n",
    "    "
   ]
  },
  {
   "cell_type": "code",
   "execution_count": null,
   "metadata": {},
   "outputs": [],
   "source": [
    "solver = 'ducc'\n",
    "backend = 'CPU'\n",
    "mode = 'SHT'\n",
    "t = cunusht.get_transformer(solver, mode, backend)\n",
    "\n",
    "if 'defres' in locals():\n",
    "    defres = np.array(defres)\n",
    "    ptg = np.array(ptg)\n",
    "    map_dfs = np.array(map_dfs)\n",
    "\n",
    "bm_CPU = []\n",
    "for lmax in 256*np.arange(1,16):\n",
    "    mmax = lmax\n",
    "    geominfo = ('gl',{'lmax': lmax})\n",
    "    t.set_geometry(geominfo)\n",
    "\n",
    "    Tunl, dlm, philm = get_toydata(lmax, mmax, geominfo)\n",
    "    result = %timeit -o -n1 -r1 synthesis(t, Tunl, solver, lmax)\n",
    "    bm_CPU.append([lmax, result])"
   ]
  },
  {
   "cell_type": "code",
   "execution_count": null,
   "metadata": {},
   "outputs": [],
   "source": [
    "solver = 'shtns'\n",
    "backend = 'CPU'\n",
    "t = cunusht.get_transformer(solver, mode, backend)\n",
    "\n",
    "\n",
    "if 'defres' in locals():\n",
    "    defres = np.array(defres)\n",
    "    ptg = np.array(ptg)\n",
    "    map_dfs = np.array(map_dfs)\n",
    "\n",
    "bm_CPU_shtns = []\n",
    "for lmax in 256*np.arange(1,16):\n",
    "    geominfo = ('gl',{'lmax': lmax, 'mmax':lmax})\n",
    "    t.set_geometry(geominfo)\n",
    "\n",
    "    Tunl, dlm, philm = get_toydata(lmax, mmax, geominfo)\n",
    "    result = %timeit -o -n1 -r1 synthesis(t, Tunl, solver, lmax)\n",
    "    bm_CPU_shtns.append([lmax, result])"
   ]
  },
  {
   "cell_type": "code",
   "execution_count": null,
   "metadata": {},
   "outputs": [],
   "source": [
    "solver = 'shtns'\n",
    "backend = 'CPU'\n",
    "mode='SHT'\n",
    "lmax = 1000\n",
    "import cunusht\n",
    "t = cunusht.get_transformer(solver, mode, backend)\n",
    "geominfo_ = ('gl',{'lmax': lmax, 'mmax': lmax})\n",
    "t.set_geometry(geominfo_)\n",
    "t.constructor.print_info()"
   ]
  },
  {
   "cell_type": "code",
   "execution_count": null,
   "metadata": {},
   "outputs": [],
   "source": [
    "solver = 'shtns'\n",
    "backend = 'GPU'\n",
    "mode='SHT'\n",
    "lmax = 1000\n",
    "import cunusht\n",
    "t = cunusht.get_transformer(solver, mode, backend)\n",
    "geominfo_ = ('gl',{'lmax': lmax})\n",
    "t.set_geometry(geominfo_)\n",
    "t.constructor.print_info()"
   ]
  },
  {
   "cell_type": "code",
   "execution_count": null,
   "metadata": {},
   "outputs": [],
   "source": [
    "plt.plot([bC[0] for bC in bm_CPU], [bC[1].average for bC in bm_CPU], label='ducc')\n",
    "plt.plot([bG[0] for bG in bm_GPU], [bG[1].average for bG in bm_GPU], label='GPU shtns')\n",
    "plt.plot([bC[0] for bC in bm_CPU_shtns], [bC[1].average for bC in bm_CPU_shtns], label='CPU shtns')\n",
    "plt.legend()\n",
    "plt.ylabel('time (s)')\n",
    "plt.xlabel('lmax')\n",
    "plt.title('SHT time for different lmax')"
   ]
  },
  {
   "cell_type": "code",
   "execution_count": null,
   "metadata": {},
   "outputs": [],
   "source": [
    "plt.plot([bC[0] for bC in bm_CPU], [bC[1].average/bG[1].average for bC, bG in zip(bm_CPU, bm_GPU)], label='fi/cufinufft')\n",
    "plt.plot([bC[0] for bC in bm_CPU], [bC[1].average/bG[1].average for bC, bG in zip(bm_CPU_ducc, bm_GPU)], label='ducc/cufinufft')\n",
    "plt.legend()\n",
    "# plt.plot([bG[0] for bG in bm_GPU], [bG[1].average for bG in bm_GPU], label='cufinufft')\n",
    "# plt.plot([bC[0] for bC in bm_CPU_ducc], [bC[1].average for bC in bm_CPU_ducc], label='duccnufft')\n",
    "plt.title('speedup')"
   ]
  },
  {
   "cell_type": "code",
   "execution_count": null,
   "metadata": {},
   "outputs": [],
   "source": []
  },
  {
   "attachments": {
    "output.png": {
     "image/png": "[encoded data removed]"
    }
   },
   "cell_type": "markdown",
   "metadata": {},
   "source": [
    "![output.png](attachment:output.png)"
   ]
  },
  {
   "cell_type": "markdown",
   "metadata": {},
   "source": []
  }
 ],
 "metadata": {
  "kernelspec": {
   "display_name": "pysht_jk",
   "language": "python",
   "name": "pysht_jk"
  },
  "language_info": {
   "codemirror_mode": {
    "name": "ipython",
    "version": 3
   },
   "file_extension": ".py",
   "mimetype": "text/x-python",
   "name": "python",
   "nbconvert_exporter": "python",
   "pygments_lexer": "ipython3",
   "version": "3.10.10"
  }
 },
 "nbformat": 4,
 "nbformat_minor": 4
}
