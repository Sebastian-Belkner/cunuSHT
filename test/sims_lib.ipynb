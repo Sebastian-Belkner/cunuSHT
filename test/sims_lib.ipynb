{
 "cells": [
  {
   "cell_type": "code",
   "execution_count": 1,
   "metadata": {},
   "outputs": [
    {
     "name": "stdout",
     "output_type": "stream",
     "text": [
      "mpisupport: True, pmisupport: False\n",
      "disabling mpi\n",
      " thingauss healpix cc f1 gl tgl\n"
     ]
    }
   ],
   "source": [
    "from IPython.display import clear_output\n",
    "from datetime import datetime\n",
    "import os\n",
    "from os.path import join as opj\n",
    "\n",
    "import healpy as hp\n",
    "import numpy as np\n",
    "import matplotlib.pyplot as plt\n",
    "\n",
    "from lenspyx.remapping.utils_geom import Geom\n",
    "from pysht import get_geom \n",
    "\n",
    "import delensalot\n",
    "from delensalot import utils\n",
    "from delensalot.sims.sims_lib import Xunl, Xsky, Xobs\n",
    "\n",
    "from delensalot.utility.utils_hp import gauss_beam, Alm, almxfl, alm_copy\n",
    "from delensalot.utility.plot_helper import bandpass_alms, movavg\n",
    "from delensalot.config.visitor import transform, transform3d\n",
    "from delensalot.config.transformer.lerepi2dlensalot import l2delensalotjob_Transformer, l2T_Transformer\n",
    "from delensalot.config.metamodel.dlensalot_mm import DLENSALOT_Model, DLENSALOT_Analysis, DLENSALOT_Simulation, DLENSALOT_Itrec\n",
    "\n",
    "from delensalot.core.iterator.iteration_handler import iterator_transformer\n",
    "from delensalot.core.opfilt.opfilt_handler import QE_transformer, MAP_transformer\n",
    "\n",
    "paths = {'unl': opj(os.environ[\"SCRATCH\"], 'simulation/mwe_dataaccess/unl/'), 'sky': opj(os.environ[\"SCRATCH\"], 'simulation/mwe_dataaccess/sky/'), 'obs': opj(os.environ[\"SCRATCH\"], 'simulation/mwe_dataaccess/obs/')}\n",
    "\n",
    "beam = 1.\n",
    "nlev = {'T': np.sqrt(2), 'P': np.sqrt(4)}\n",
    "nside = 2048\n",
    "lmax = 1500\n",
    "transfunction = gauss_beam(beam/180/60 * np.pi, lmax=lmax)\n",
    "# geominfo = ('tgl',{'lmax': lmax, 'smax': 3})\n",
    "# geominfo = ('thingauss',{'lmax': lmax, 'smax': 3})\n",
    "geominfo = ('healpix',{'nside': nside})\n",
    "geominfo = ('gl',{'lmax': lmax})\n",
    "geom_lib = get_geom(geominfo, backend = 'GPU')\n",
    "print(Geom.get_supported_geometries())\n",
    "CAMB_fn = opj(os.path.dirname(delensalot.__file__), 'data', 'cls', 'FFP10_wdipole_lenspotentialCls.dat')\n",
    "CAMB = utils.camb_clfile(CAMB_fn)"
   ]
  },
  {
   "cell_type": "code",
   "execution_count": 2,
   "metadata": {},
   "outputs": [
    {
     "data": {
      "text/plain": [
       "'3.9.12 (main, Apr  5 2022, 06:56:58) \\n[GCC 7.5.0]'"
      ]
     },
     "execution_count": 2,
     "metadata": {},
     "output_type": "execute_result"
    }
   ],
   "source": [
    "import sys\n",
    "sys.version"
   ]
  },
  {
   "cell_type": "code",
   "execution_count": 3,
   "metadata": {},
   "outputs": [],
   "source": [
    "import cufinufft"
   ]
  },
  {
   "cell_type": "code",
   "execution_count": null,
   "metadata": {},
   "outputs": [
    {
     "name": "stdout",
     "output_type": "stream",
     "text": [
      "(1, 1127251)\n"
     ]
    },
    {
     "name": "stderr",
     "output_type": "stream",
     "text": [
      "\n",
      "Total wall clock time for synthesis_general: 2.28s\n",
      "|\n",
      "+- interpol (u2nu)                   : 56.87% (1.2965s)\n",
      "+- getPlane                          : 43.12% (0.9830s)\n",
      "|  |\n",
      "|  +- alm2leg                           : 69.27% (0.6809s)\n",
      "|  +- theta resampling and deconvolution: 19.66% (0.1933s)\n",
      "|  +- phi FFT and dconvolution          : 11.01% (0.1082s)\n",
      "|  +- dealing with borders              :  0.04% (0.0004s)\n",
      "|  \n",
      "+- SphereInterpol setup              :  0.01% (0.0001s)\n",
      "+- build_planes                      :  0.00% (0.0000s)\n",
      "+- setup                             :  0.00% (0.0000s)\n"
     ]
    }
   ],
   "source": [
    "from ducc0.sht.experimental import adjoint_synthesis_general, synthesis_general\n",
    "import healpy as hp\n",
    "import numpy as np\n",
    "lmax_unl = 1500\n",
    "mmax = 1500\n",
    "\n",
    "hp.Alm.getsize(lmax_unl)\n",
    "gclm = np.array(np.random.random(size=(1,hp.Alm.getsize(lmax_unl))), dtype=complex)\n",
    "print(gclm.shape)\n",
    "ptg = np.random.random(size=(8707090, 2))\n",
    "spin = 0\n",
    "epsilon = 1e-7\n",
    "sht_tr = 4\n",
    "sht_mode = 'STANDARD'\n",
    "verbosity = 1\n",
    "\n",
    "\n",
    "values = synthesis_general(lmax=lmax_unl, mmax=mmax, alm=gclm, loc=ptg, spin=spin, epsilon=epsilon,\n",
    "                                       nthreads=sht_tr, mode=sht_mode, verbose=verbosity)"
   ]
  },
  {
   "cell_type": "code",
   "execution_count": 4,
   "metadata": {},
   "outputs": [],
   "source": [
    "synunl = Xunl(lmax=lmax, geominfo=geominfo)\n",
    "Tunl = synunl.get_sim_unl(0, spin=0, space='map', field='temperature')"
   ]
  },
  {
   "cell_type": "code",
   "execution_count": 5,
   "metadata": {},
   "outputs": [],
   "source": [
    "phi = synunl.get_sim_phi(0, space='map')"
   ]
  },
  {
   "cell_type": "code",
   "execution_count": 6,
   "metadata": {},
   "outputs": [
    {
     "name": "stdout",
     "output_type": "stream",
     "text": [
      "A\n",
      "[ 0.00000000e+00+0.j          2.24724699e+01+0.j\n",
      "  3.22281097e+01+0.j         ...  4.45031839e-03-0.06389379j\n",
      " -5.85144537e-03-0.03490046j  5.96993517e-03+0.03852491j] [ 0.00000000e+00+0.00000000e+00j  1.38034496e-04+0.00000000e+00j\n",
      "  2.26476370e-04+0.00000000e+00j ...  1.00917746e-08-1.44888897e-07j\n",
      " -1.32935551e-08-7.92883132e-08j  1.35627452e-08+8.75224808e-08j] 0 ('thingauss', {'lmax': 2524, 'smax': 3}) 1e-07 0 0\n",
      "A\n",
      "[ 0.00000000e+00+0.j          2.24724699e+01+0.j\n",
      "  3.22281097e+01+0.j         ...  4.45031839e-03-0.06389379j\n",
      " -5.85144537e-03-0.03490046j  5.96993517e-03+0.03852491j] None 0 False True None\n",
      "(8707090, 2)\n",
      "1500 1500 (1, 1127251) (8707090, 2) 0 1e-07 16 STANDARD 0\n",
      "B\n",
      "C\n",
      "D\n"
     ]
    }
   ],
   "source": [
    "synsky = Xsky(lmax=lmax, unl_lib=synunl, geominfo=geominfo)\n",
    "Tsky = synsky.get_sim_sky(0, spin=0, space='map', field='temperature')"
   ]
  },
  {
   "cell_type": "code",
   "execution_count": 7,
   "metadata": {},
   "outputs": [],
   "source": [
    "synobs = Xobs(lmax=lmax, len_lib=synsky, transfunction=transfunction, nlev=nlev, geominfo=geominfo, libdir_suffix='')\n",
    "Tobs = synobs.get_sim_obs(0, spin=0, space='map', field='temperature')"
   ]
  },
  {
   "cell_type": "code",
   "execution_count": null,
   "metadata": {},
   "outputs": [],
   "source": [
    "synunl = Xunl(lmax=lmax, geominfo=geominfo)\n",
    "Tunl = synunl.get_sim_unl(0, spin=0, space='map', field='temperature')\n",
    "# QUunl = synunl.get_sim_unl(0, spin=2, space='map', field='polarization')\n",
    "# EBunl = synunl.get_sim_unl(0, spin=0, space='map', field='polarization')\n",
    "\n",
    "phi = synunl.get_sim_phi(0, space='map')\n",
    "# phi *= 10\n",
    "# synunl.cacher.cache('phi_space{}_{}'.format('map', 0), phi)\n",
    "\n",
    "synsky = Xsky(lmax=lmax, unl_lib=synunl, geominfo=geominfo)\n",
    "Tsky = synsky.get_sim_sky(0, spin=0, space='map', field='temperature')\n",
    "# QUsky = synsky.get_sim_sky(0, spin=2, space='map', field='polarization')\n",
    "# EBsky = synsky.get_sim_sky(0, spin=0, space='map', field='polarization')\n",
    "\n",
    "synobs = Xobs(lmax=lmax, len_lib=synsky, transfunction=transfunction, nlev=nlev, geominfo=geominfo)\n",
    "Tobs = synobs.get_sim_obs(0, spin=0, space='map', field='temperature')\n",
    "# QUobs = synobs.get_sim_obs(0, spin=2, space='map', field='polarization')\n",
    "# EBobs = synobs.get_sim_obs(0, spin=0, space='map', field='polarization')\n",
    "\n",
    "Tnoise = synobs.get_sim_noise(0, spin=0, space='map', field='temperature')\n",
    "# EBnoise = synobs.get_sim_noise(0, spin=0, space='map', field='polarization')\n",
    "# QUnoise = synobs.get_sim_noise(0, spin=2, space='map', field='polarization')\n",
    "\n",
    "space = 'map'"
   ]
  },
  {
   "cell_type": "code",
   "execution_count": 9,
   "metadata": {},
   "outputs": [
    {
     "ename": "RuntimeError",
     "evalue": "spatial array has wrong shape.",
     "output_type": "error",
     "traceback": [
      "\u001b[0;31m---------------------------------------------------------------------------\u001b[0m",
      "\u001b[0;31mRuntimeError\u001b[0m                              Traceback (most recent call last)",
      "\u001b[1;32m/home/users/b/belkner/notebooks/gpu/sims_lib.ipynb Cell 8\u001b[0m line \u001b[0;36m<cell line: 10>\u001b[0;34m()\u001b[0m\n\u001b[1;32m      <a href='vscode-notebook-cell://ssh-remote%2Blogin1.yggdrasil.hpc.unige.ch/home/users/b/belkner/notebooks/gpu/sims_lib.ipynb#W2sdnNjb2RlLXJlbW90ZQ%3D%3D?line=6'>7</a>\u001b[0m geom_lib\u001b[39m.\u001b[39minit_transformer(lmax, mmax)\n\u001b[1;32m      <a href='vscode-notebook-cell://ssh-remote%2Blogin1.yggdrasil.hpc.unige.ch/home/users/b/belkner/notebooks/gpu/sims_lib.ipynb#W2sdnNjb2RlLXJlbW90ZQ%3D%3D?line=8'>9</a>\u001b[0m plt\u001b[39m.\u001b[39mtitle(\u001b[39m'\u001b[39m\u001b[39mhigh-$\u001b[39m\u001b[39m\\\u001b[39m\u001b[39mell$ behaviour comes from geom_lib.map2alm() = hp.map2alm(iter=0), healpix geometry\u001b[39m\u001b[39m'\u001b[39m)\n\u001b[0;32m---> <a href='vscode-notebook-cell://ssh-remote%2Blogin1.yggdrasil.hpc.unige.ch/home/users/b/belkner/notebooks/gpu/sims_lib.ipynb#W2sdnNjb2RlLXJlbW90ZQ%3D%3D?line=9'>10</a>\u001b[0m plt\u001b[39m.\u001b[39mplot(scale_factor_l \u001b[39m*\u001b[39m hp\u001b[39m.\u001b[39malm2cl(geom_lib\u001b[39m.\u001b[39;49mmap2alm(np\u001b[39m.\u001b[39;49mcopy(Tunl), lmax\u001b[39m=\u001b[39;49mlmax, mmax\u001b[39m=\u001b[39;49mlmax, nthreads\u001b[39m=\u001b[39;49m\u001b[39m4\u001b[39;49m)), label\u001b[39m=\u001b[39m\u001b[39mr\u001b[39m\u001b[39m'\u001b[39m\u001b[39m$C_\u001b[39m\u001b[39m\\\u001b[39m\u001b[39mell^\u001b[39m\u001b[39m{\u001b[39m\u001b[39mTT, \u001b[39m\u001b[39m\\\u001b[39m\u001b[39mrm\u001b[39m\u001b[39m{unl}\u001b[39;00m\u001b[39m}$\u001b[39m\u001b[39m'\u001b[39m)\n\u001b[1;32m     <a href='vscode-notebook-cell://ssh-remote%2Blogin1.yggdrasil.hpc.unige.ch/home/users/b/belkner/notebooks/gpu/sims_lib.ipynb#W2sdnNjb2RlLXJlbW90ZQ%3D%3D?line=10'>11</a>\u001b[0m \u001b[39m# plt.plot(scale_factor_l * hp.alm2cl(geom_lib.map2alm(np.copy(EBunl[0]), lmax=lmax, mmax=lmax, nthreads=4)), label=r'$C_\\ell^{EE, \\rm{unl}}$')\u001b[39;00m\n\u001b[1;32m     <a href='vscode-notebook-cell://ssh-remote%2Blogin1.yggdrasil.hpc.unige.ch/home/users/b/belkner/notebooks/gpu/sims_lib.ipynb#W2sdnNjb2RlLXJlbW90ZQ%3D%3D?line=11'>12</a>\u001b[0m \u001b[39m# plt.plot(scale_factor_l * np.copy(hp.alm2cl(geom_lib.map2alm(np.copy(EBunl[1]), lmax=lmax, mmax=lmax, nthreads=4))), label=r'$C_\\ell^{BB, \\rm{unl}}$')\u001b[39;00m\n\u001b[1;32m     <a href='vscode-notebook-cell://ssh-remote%2Blogin1.yggdrasil.hpc.unige.ch/home/users/b/belkner/notebooks/gpu/sims_lib.ipynb#W2sdnNjb2RlLXJlbW90ZQ%3D%3D?line=13'>14</a>\u001b[0m plt\u001b[39m.\u001b[39mplot(scale_factor_l \u001b[39m*\u001b[39m np\u001b[39m.\u001b[39mcopy(hp\u001b[39m.\u001b[39malm2cl(geom_lib\u001b[39m.\u001b[39mmap2alm(np\u001b[39m.\u001b[39mcopy(Tsky), lmax\u001b[39m=\u001b[39mlmax, mmax\u001b[39m=\u001b[39mlmax, nthreads\u001b[39m=\u001b[39m\u001b[39m4\u001b[39m))), label\u001b[39m=\u001b[39m\u001b[39mr\u001b[39m\u001b[39m'\u001b[39m\u001b[39m$C_\u001b[39m\u001b[39m\\\u001b[39m\u001b[39mell^\u001b[39m\u001b[39m{\u001b[39m\u001b[39mTT, \u001b[39m\u001b[39m\\\u001b[39m\u001b[39mrm\u001b[39m\u001b[39m{sky}\u001b[39;00m\u001b[39m}$\u001b[39m\u001b[39m'\u001b[39m)\n",
      "File \u001b[0;32m~/git/pySHT/pysht/transformer.py:294\u001b[0m, in \u001b[0;36mGeom.map2alm\u001b[0;34m(self, m, **kwargs)\u001b[0m\n\u001b[1;32m    291\u001b[0m \u001b[39mdef\u001b[39;00m \u001b[39mmap2alm\u001b[39m(\u001b[39mself\u001b[39m, m:np\u001b[39m.\u001b[39mndarray, \u001b[39m*\u001b[39m\u001b[39m*\u001b[39mkwargs):\n\u001b[1;32m    292\u001b[0m     \u001b[39m# FIXME: method only here for backwards compatiblity\u001b[39;00m\n\u001b[1;32m    293\u001b[0m     kwargs\u001b[39m.\u001b[39mupdate({\u001b[39m'\u001b[39m\u001b[39mspin\u001b[39m\u001b[39m'\u001b[39m:\u001b[39m0\u001b[39m})\n\u001b[0;32m--> 294\u001b[0m     \u001b[39mreturn\u001b[39;00m \u001b[39mself\u001b[39;49m\u001b[39m.\u001b[39;49madjoint_synthesis(m, \u001b[39m*\u001b[39;49m\u001b[39m*\u001b[39;49mkwargs)\u001b[39m.\u001b[39msqueeze()\n",
      "File \u001b[0;32m~/git/pySHT/pysht/transformer.py:260\u001b[0m, in \u001b[0;36mGeom.adjoint_synthesis\u001b[0;34m(self, m, **kwargs)\u001b[0m\n\u001b[1;32m    257\u001b[0m     \u001b[39mreturn\u001b[39;00m ducc_adjoint_synthesis(\u001b[39mmap\u001b[39m\u001b[39m=\u001b[39mm, theta\u001b[39m=\u001b[39m\u001b[39mself\u001b[39m\u001b[39m.\u001b[39mtheta, nphi\u001b[39m=\u001b[39m\u001b[39mself\u001b[39m\u001b[39m.\u001b[39mnph, phi0\u001b[39m=\u001b[39m\u001b[39mself\u001b[39m\u001b[39m.\u001b[39mphi0, ringstart\u001b[39m=\u001b[39m\u001b[39mself\u001b[39m\u001b[39m.\u001b[39mofs, \u001b[39m*\u001b[39m\u001b[39m*\u001b[39mkwargs)\n\u001b[1;32m    258\u001b[0m \u001b[39melif\u001b[39;00m \u001b[39mself\u001b[39m\u001b[39m.\u001b[39mget_backend() \u001b[39m==\u001b[39m \u001b[39m'\u001b[39m\u001b[39mGPU\u001b[39m\u001b[39m'\u001b[39m:\n\u001b[1;32m    259\u001b[0m     \u001b[39m# spin:int, lmax:int, mmax:int, nthreads:int, alm=None, apply_weights=True, \u001b[39;00m\n\u001b[0;32m--> 260\u001b[0m     \u001b[39mreturn\u001b[39;00m \u001b[39mself\u001b[39;49m\u001b[39m.\u001b[39;49m_shtns_adjoint_synthesis(m, \u001b[39m*\u001b[39;49m\u001b[39m*\u001b[39;49mkwargs)\n",
      "File \u001b[0;32m~/git/pySHT/pysht/transformer.py:300\u001b[0m, in \u001b[0;36mGeom._shtns_adjoint_synthesis\u001b[0;34m(self, m, **kwargs)\u001b[0m\n\u001b[1;32m    299\u001b[0m \u001b[39mdef\u001b[39;00m \u001b[39m_shtns_adjoint_synthesis\u001b[39m(\u001b[39mself\u001b[39m, m, \u001b[39m*\u001b[39m\u001b[39m*\u001b[39mkwargs):\n\u001b[0;32m--> 300\u001b[0m     \u001b[39mreturn\u001b[39;00m np\u001b[39m.\u001b[39matleast_2d(\u001b[39mself\u001b[39;49m\u001b[39m.\u001b[39;49msh_gpu\u001b[39m.\u001b[39;49manalys(m))\n",
      "File \u001b[0;32m~/git/shtns/shtns.py:325\u001b[0m, in \u001b[0;36msht.analys\u001b[0;34m(self, *arg)\u001b[0m\n\u001b[1;32m    323\u001b[0m v \u001b[39m=\u001b[39m \u001b[39mlist\u001b[39m(arg)\n\u001b[1;32m    324\u001b[0m \u001b[39mfor\u001b[39;00m i \u001b[39min\u001b[39;00m \u001b[39mrange\u001b[39m(\u001b[39m0\u001b[39m,n):\n\u001b[0;32m--> 325\u001b[0m \t\u001b[39mif\u001b[39;00m v[i]\u001b[39m.\u001b[39mshape \u001b[39m!=\u001b[39m \u001b[39mself\u001b[39m\u001b[39m.\u001b[39mspat_shape: \u001b[39mraise\u001b[39;00m \u001b[39mRuntimeError\u001b[39;00m(\u001b[39m\"\u001b[39m\u001b[39mspatial array has wrong shape.\u001b[39m\u001b[39m\"\u001b[39m)\n\u001b[1;32m    326\u001b[0m \t\u001b[39mif\u001b[39;00m v[i]\u001b[39m.\u001b[39mdtype\u001b[39m.\u001b[39mnum \u001b[39m!=\u001b[39m np\u001b[39m.\u001b[39mdtype(\u001b[39m'\u001b[39m\u001b[39mfloat64\u001b[39m\u001b[39m'\u001b[39m)\u001b[39m.\u001b[39mnum: \u001b[39mraise\u001b[39;00m \u001b[39mRuntimeError\u001b[39;00m(\u001b[39m\"\u001b[39m\u001b[39mspatial array should be dtype=float64.\u001b[39m\u001b[39m\"\u001b[39m)\n\u001b[1;32m    327\u001b[0m \t\u001b[39mif\u001b[39;00m v[i]\u001b[39m.\u001b[39mflags\u001b[39m.\u001b[39mcontiguous \u001b[39m==\u001b[39m \u001b[39mFalse\u001b[39;00m: v[i] \u001b[39m=\u001b[39m v[i]\u001b[39m.\u001b[39mcopy()\t\t\u001b[39m# contiguous array required.\u001b[39;00m\n",
      "\u001b[0;31mRuntimeError\u001b[0m: spatial array has wrong shape."
     ]
    },
    {
     "data": {
      "image/png": "[encoded data removed]",
      "text/plain": [
       "<Figure size 864x576 with 1 Axes>"
      ]
     },
     "metadata": {
      "needs_background": "light"
     },
     "output_type": "display_data"
    }
   ],
   "source": [
    "fig = plt.figure(figsize=(12,8))\n",
    "ll = np.arange(0,lmax+1,1)\n",
    "LL = np.arange(0,np.min([3*nside,lmax])+1,1)\n",
    "scale_factor_l = (ll*(ll+1))/np.sqrt(2*np.pi)\n",
    "scale_factor_L = (LL*(LL+1))**2/np.sqrt(2*np.pi)\n",
    "\n",
    "geom_lib.init_transformer(lmax, mmax)\n",
    "\n",
    "plt.title('high-$\\ell$ behaviour comes from geom_lib.map2alm() = hp.map2alm(iter=0), healpix geometry')\n",
    "plt.plot(scale_factor_l * hp.alm2cl(geom_lib.map2alm(np.copy(Tunl), lmax=lmax, mmax=lmax, nthreads=4)), label=r'$C_\\ell^{TT, \\rm{unl}}$')\n",
    "# plt.plot(scale_factor_l * hp.alm2cl(geom_lib.map2alm(np.copy(EBunl[0]), lmax=lmax, mmax=lmax, nthreads=4)), label=r'$C_\\ell^{EE, \\rm{unl}}$')\n",
    "# plt.plot(scale_factor_l * np.copy(hp.alm2cl(geom_lib.map2alm(np.copy(EBunl[1]), lmax=lmax, mmax=lmax, nthreads=4))), label=r'$C_\\ell^{BB, \\rm{unl}}$')\n",
    "\n",
    "plt.plot(scale_factor_l * np.copy(hp.alm2cl(geom_lib.map2alm(np.copy(Tsky), lmax=lmax, mmax=lmax, nthreads=4))), label=r'$C_\\ell^{TT, \\rm{sky}}$')\n",
    "# plt.plot(scale_factor_l * np.copy(hp.alm2cl(geom_lib.map2alm(np.copy(EBsky[0]), lmax=lmax, mmax=lmax, nthreads=4))), label=r'$\\tilde{C}_\\ell^{EE, \\rm{sky}}$')\n",
    "# plt.plot(scale_factor_l * np.copy(hp.alm2cl(geom_lib.map2alm(np.copy(EBsky[1]), lmax=lmax, mmax=lmax, nthreads=4))), label=r'$\\tilde{C}_\\ell^{BB, \\rm{sky}}$')\n",
    "\n",
    "plt.plot(scale_factor_l * np.copy(hp.alm2cl(geom_lib.map2alm(np.copy(Tobs), lmax=lmax, mmax=lmax, nthreads=4))), label=r'$C_\\ell^{TT, \\rm{obs}}$')\n",
    "# plt.plot(scale_factor_l * np.copy(hp.alm2cl(geom_lib.map2alm(np.copy(EBobs[0]), lmax=lmax, mmax=lmax, nthreads=4))), label=r'$\\tilde{C}_\\ell^{EE, \\rm{obs}}$')\n",
    "# plt.plot(scale_factor_l * np.copy(hp.alm2cl(geom_lib.map2alm(np.copy(EBobs[1]), lmax=lmax, mmax=lmax, nthreads=4))), label=r'$\\tilde{C}_\\ell^{BB, \\rm{obs}}$')\n",
    "\n",
    "plt.plot(scale_factor_l * np.copy(hp.alm2cl(geom_lib.map2alm(np.copy(Tnoise), lmax=lmax, mmax=lmax, nthreads=4))), label=r'$C_\\ell^{TT, \\rm{noise}}$')\n",
    "# plt.plot(scale_factor_l * np.copy(hp.alm2cl(geom_lib.map2alm(np.copy(EBnoise[0]), lmax=lmax, mmax=lmax, nthreads=4))), label=r'$C_\\ell^{EE, \\rm{noise}}$', color='grey')\n",
    "# plt.plot(scale_factor_l * np.copy(hp.alm2cl(geom_lib.map2alm(np.copy(EBnoise[1]), lmax=lmax, mmax=lmax, nthreads=4))), label=r'$C_\\ell^{BB, \\rm{noise}}$', color='grey')\n",
    "plt.plot(scale_factor_L * np.copy(hp.alm2cl(geom_lib.map2alm(np.copy(phi), lmax=lmax, mmax=lmax, nthreads=4))*10**6), color='black', label=r'$C_L^{\\phi\\phi} \\cdot 10^6$')\n",
    "\n",
    "plt.legend()\n",
    "plt.xlim(1,lmax+1024)\n",
    "plt.ylim(1e-5,1e5)\n",
    "\n",
    "plt.loglog()\n",
    "plt.xlabel(r'multipole, $\\ell$')\n",
    "plt.ylabel(r'$D_\\ell$')"
   ]
  },
  {
   "cell_type": "code",
   "execution_count": 10,
   "metadata": {},
   "outputs": [
    {
     "data": {
      "text/plain": [
       "(4611072,)"
      ]
     },
     "execution_count": 10,
     "metadata": {},
     "output_type": "execute_result"
    }
   ],
   "source": [
    "Tobs.shape"
   ]
  },
  {
   "cell_type": "code",
   "execution_count": null,
   "metadata": {},
   "outputs": [],
   "source": []
  }
 ],
 "metadata": {
  "kernelspec": {
   "display_name": "shtgpu",
   "language": "python",
   "name": "shtgpu"
  },
  "language_info": {
   "codemirror_mode": {
    "name": "ipython",
    "version": 3
   },
   "file_extension": ".py",
   "mimetype": "text/x-python",
   "name": "python",
   "nbconvert_exporter": "python",
   "pygments_lexer": "ipython3",
   "version": "3.9.12"
  }
 },
 "nbformat": 4,
 "nbformat_minor": 2
}
