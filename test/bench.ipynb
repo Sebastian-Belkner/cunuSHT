{
 "cells": [
  {
   "cell_type": "code",
   "execution_count": 1,
   "metadata": {},
   "outputs": [
    {
     "name": "stdout",
     "output_type": "stream",
     "text": [
      "(64,)\n",
      "40\n",
      "[[ 0.  1.  2.  3.  4.  5.  6.  7.]\n",
      " [ 8.  9. 10. 11. 12. 13. 14. 15.]\n",
      " [16. 17. 18. 19. 20. 21. 22. 23.]\n",
      " [24. 25. 26. 27. 28. 29. 30. 31.]\n",
      " [32. 33. 34. 35. 36. 37. 38. 39.]\n",
      " [23. 24. 25. 26. 18. 19. 20. 21.]\n",
      " [18. 19. 20. 21. 13. 14. 15. 16.]\n",
      " [13. 14. 15. 16.  8.  9. 10. 11.]]\n"
     ]
    },
    {
     "data": {
      "image/png": "[encoded data removed]",
      "text/plain": [
       "<Figure size 640x480 with 1 Axes>"
      ]
     },
     "metadata": {},
     "output_type": "display_data"
    }
   ],
   "source": [
    "import numpy as np\n",
    "ntheta = 5\n",
    "npix = 40\n",
    "nphi = npix//ntheta\n",
    "synth1D = np.arange((ntheta * nphi))\n",
    "doubling1D = np.zeros(((2 * ntheta - 2)* nphi))\n",
    "import matplotlib.pyplot as plt\n",
    "print(doubling1D.shape)\n",
    "\n",
    "nphihalf = nphi // 2\n",
    "print(ntheta*nphi)\n",
    "for i in range(ntheta):\n",
    "    for j in range(nphi):\n",
    "        doubling1D[i * nphi + j] = synth1D[i * nphi + j]\n",
    "for i in range(ntheta, 2 * ntheta-2, 1):\n",
    "    for j in range(0, nphihalf):\n",
    "        doubling1D[i * nphi + j] = np.copy(synth1D[2*ntheta-2 - i * (ntheta) + j])\n",
    "for i in range(ntheta, 2 * ntheta-2, 1):\n",
    "    for j in range(nphihalf, nphi):\n",
    "        doubling1D[i * nphi + j] = synth1D[ntheta - i * (ntheta)-2 + j - nphihalf]\n",
    "\n",
    "\n",
    "# print(synth1D)\n",
    "\n",
    "np.array(doubling1D)\n",
    "\n",
    "# del synth1D, doubling1D\n",
    "plt.imshow(doubling1D.reshape(2*ntheta - 2, nphi))\n",
    "\n",
    "print(doubling1D.reshape(2*ntheta - 2, nphi))"
   ]
  },
  {
   "cell_type": "code",
   "execution_count": 135,
   "metadata": {},
   "outputs": [
    {
     "name": "stdout",
     "output_type": "stream",
     "text": [
      "[[ 0.  1.  2.  3.  4.  5.  6.  7.]\n",
      " [ 8.  9. 10. 11. 12. 13. 14. 15.]\n",
      " [16. 17. 18. 19. 20. 21. 22. 23.]\n",
      " [24. 25. 26. 27. 28. 29. 30. 31.]\n",
      " [32. 33. 34. 35. 36. 37. 38. 39.]\n",
      " [28. 29. 30. 31. 24. 25. 26. 27.]\n",
      " [20. 21. 22. 23. 16. 17. 18. 19.]\n",
      " [12. 13. 14. 15.  8.  9. 10. 11.]]\n"
     ]
    }
   ],
   "source": [
    "print(doubling1D_py)"
   ]
  },
  {
   "cell_type": "code",
   "execution_count": 83,
   "metadata": {},
   "outputs": [
    {
     "name": "stdout",
     "output_type": "stream",
     "text": [
      "(64,)\n",
      "(5, 8) (5, 8)\n"
     ]
    },
    {
     "data": {
      "text/plain": [
       "array([ 0.,  1.,  2.,  3.,  4.,  5.,  6.,  7.,  8.,  9., 10., 11., 12.,\n",
       "       13., 14., 15., 16., 17., 18., 19., 20., 21., 22., 23., 24., 25.,\n",
       "       26., 27., 28., 29., 30., 31., 32., 33., 34., 35., 36., 37., 38.,\n",
       "       39., 28., 29., 30., 31., 24., 25., 26., 27., 20., 21., 22., 23.,\n",
       "       16., 17., 18., 19., 12., 13., 14., 15.,  8.,  9., 10., 11.])"
      ]
     },
     "execution_count": 83,
     "metadata": {},
     "output_type": "execute_result"
    }
   ],
   "source": [
    "doubling1D_py = np.zeros((2 * ntheta-2, nphi))\n",
    "print(doubling1D_py.flatten().shape)\n",
    "synth1D_py = np.copy(synth1D.reshape(ntheta, nphi))\n",
    "print(synth1D_py.shape, doubling1D_py[:ntheta, :].shape)\n",
    "\n",
    "nphihalf = nphi//2\n",
    "doubling1D_py[:ntheta, :] = synth1D_py\n",
    "doubling1D_py[ntheta:, :nphihalf] = doubling1D_py[ntheta-2:0:-1, nphihalf:]\n",
    "doubling1D_py[ntheta:, nphihalf:] = doubling1D_py[ntheta-2:0:-1, :nphihalf]\n",
    "\n",
    "doubling1D_py.flatten()"
   ]
  },
  {
   "cell_type": "code",
   "execution_count": 132,
   "metadata": {},
   "outputs": [
    {
     "name": "stdout",
     "output_type": "stream",
     "text": [
      "[[ 0.  1.  2.  3.  4.  5.  6.  7.]\n",
      " [ 8.  9. 10. 11. 12. 13. 14. 15.]\n",
      " [16. 17. 18. 19. 20. 21. 22. 23.]\n",
      " [24. 25. 26. 27. 28. 29. 30. 31.]\n",
      " [32. 33. 34. 35. 36. 37. 38. 39.]\n",
      " [28. 29. 30. 31. 24. 25. 26. 27.]\n",
      " [20. 21. 22. 23. 16. 17. 18. 19.]\n",
      " [12. 13. 14. 15.  8.  9. 10. 11.]]\n"
     ]
    },
    {
     "data": {
      "image/png": "[encoded data removed]",
      "text/plain": [
       "<Figure size 640x480 with 1 Axes>"
      ]
     },
     "metadata": {},
     "output_type": "display_data"
    }
   ],
   "source": []
  },
  {
   "cell_type": "code",
   "execution_count": 14,
   "metadata": {},
   "outputs": [
    {
     "data": {
      "text/plain": [
       "array([[0.06488395, 0.89119387, 0.83396506, 0.53406297, 0.19324491,\n",
       "        0.18381148, 0.61585604, 0.02950532],\n",
       "       [0.09691744, 0.01195941, 0.75509692, 0.521626  , 0.72050291,\n",
       "        0.92042311, 0.15874288, 0.11785826],\n",
       "       [0.26297592, 0.05287091, 0.82998709, 0.66686171, 0.15670044,\n",
       "        0.28794626, 0.62448104, 0.19878425],\n",
       "       [0.98733512, 0.81630902, 0.96169815, 0.68280076, 0.40582675,\n",
       "        0.65857582, 0.45086894, 0.9623192 ]])"
      ]
     },
     "execution_count": 14,
     "metadata": {},
     "output_type": "execute_result"
    }
   ],
   "source": [
    "synth1D_py"
   ]
  },
  {
   "cell_type": "code",
   "execution_count": 2,
   "metadata": {},
   "outputs": [
    {
     "data": {
      "text/plain": [
       "50331648"
      ]
     },
     "execution_count": 2,
     "metadata": {},
     "output_type": "execute_result"
    }
   ],
   "source": [
    "import healpy as hp\n",
    "hp.nside2npix(2048)"
   ]
  },
  {
   "cell_type": "code",
   "execution_count": null,
   "metadata": {},
   "outputs": [],
   "source": []
  }
 ],
 "metadata": {
  "kernelspec": {
   "display_name": "pysht",
   "language": "python",
   "name": "python3"
  },
  "language_info": {
   "codemirror_mode": {
    "name": "ipython",
    "version": 3
   },
   "file_extension": ".py",
   "mimetype": "text/x-python",
   "name": "python",
   "nbconvert_exporter": "python",
   "pygments_lexer": "ipython3",
   "version": "3.10.10"
  }
 },
 "nbformat": 4,
 "nbformat_minor": 2
}
